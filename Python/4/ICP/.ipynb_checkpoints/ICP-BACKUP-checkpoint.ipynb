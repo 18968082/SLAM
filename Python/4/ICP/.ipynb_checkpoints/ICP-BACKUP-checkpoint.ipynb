{
 "cells": [
  {
   "cell_type": "code",
   "execution_count": 1,
   "metadata": {
    "collapsed": true
   },
   "outputs": [],
   "source": [
    "import csv\n",
    "from collections import deque\n",
    "import numpy as np\n",
    "from matplotlib import pyplot as plt\n",
    "\n",
    "from sklearn.decomposition import PCA\n",
    "from sklearn.neighbors import NearestNeighbors\n",
    "\n",
    "%matplotlib inline"
   ]
  },
  {
   "cell_type": "code",
   "execution_count": 2,
   "metadata": {},
   "outputs": [
    {
     "name": "stdout",
     "output_type": "stream",
     "text": [
      "78\n",
      "78\n",
      "hello\n",
      "2260\n",
      "None\n",
      "3\n"
     ]
    }
   ],
   "source": [
    "import moduletest as modtest\n",
    "print( modtest.ageofqueen)\n",
    "\n",
    "from moduletest import ageofqueen\n",
    "from moduletest import printhello\n",
    "print(ageofqueen) \n",
    "printhello()\n",
    "\n",
    "timesfour = modtest.timesfour\n",
    "print(timesfour(565))\n",
    "\n",
    "import moduletest\n",
    "test = moduletest.Piano('JIMMY', 1, 2, 3, 'WOOF')\n",
    "print(test.year_of_birth)"
   ]
  },
  {
   "cell_type": "code",
   "execution_count": 3,
   "metadata": {
    "collapsed": true
   },
   "outputs": [],
   "source": [
    "np.set_printoptions(formatter={'float_kind':lambda x: \"%2.5f\" % x})\n",
    "# Format numpy array to have the same number format as the text file \n",
    "\n",
    "Trajectory = np.loadtxt(\"Trajectory.txt\", dtype='f', delimiter=' ',usecols = (1,2))\n",
    "\n",
    "traj_len = Trajectory.shape[0]\n",
    "# Length of trajectory is: 52\n",
    "traj_dim = Trajectory.shape[1]\n",
    "# Dimension of trajectory is: 2\n",
    "np.set_printoptions()"
   ]
  },
  {
   "cell_type": "code",
   "execution_count": 5,
   "metadata": {},
   "outputs": [],
   "source": [
    "LidarScan_ranges = np.loadtxt('LidarScans.txt', dtype='f', delimiter=' ',usecols = np.linspace(1,241,241,dtype='int'))\n",
    "LidarScan_ranges = np.delete(LidarScan_ranges, 0, 1)\n",
    "num_of_LidarScans = int(LidarScan_ranges[0,0])\n",
    "\n",
    "LidarScan_angles = np.loadtxt('LidarScans_angles.txt', dtype='f', delimiter=' ',usecols = np.linspace(1,240,240,dtype='int'))\n",
    "num_of_LidarScans_angles = int(LidarScan_angles.shape[0])"
   ]
  },
  {
   "cell_type": "markdown",
   "metadata": {},
   "source": [
    "All the variables that have been created to retrieve the data:"
   ]
  },
  {
   "cell_type": "code",
   "execution_count": 5,
   "metadata": {},
   "outputs": [
    {
     "name": "stdout",
     "output_type": "stream",
     "text": [
      "Trajectory:  (52, 2)\n",
      "traj_len:  52\n",
      "traj_dim:  2 \n",
      "\n",
      "LidarScans:  (51, 240)\n",
      "num_of_lidarscans:  1\n",
      "LidarScans_angles:  (240,)\n"
     ]
    }
   ],
   "source": [
    "print('Trajectory: ',Trajectory.shape)\n",
    "print('traj_len: ',traj_len)\n",
    "print('traj_dim: ',traj_dim,'\\n')\n",
    "\n",
    "print('LidarScans: ',LidarScans.shape)\n",
    "print('num_of_lidarscans: ',num_of_lidarscans)\n",
    "print('LidarScans_angles: ',LidarScans_angles.shape)"
   ]
  },
  {
   "cell_type": "markdown",
   "metadata": {
    "collapsed": true
   },
   "source": [
    "So at this point I have the odometry measurements, all lidar scans as well as the angles corresponding to those scans"
   ]
  },
  {
   "cell_type": "code",
   "execution_count": 6,
   "metadata": {
    "collapsed": true
   },
   "outputs": [],
   "source": [
    "#envir_axes = [[np.amin(Trajectory[:,0])-8,np.amax(Trajectory[:,0])+8],[np.amin(Trajectory[:,1])-8,np.amax(Trajectory[:,1])+8]]\n",
    "#fig = plt.figure(1, figsize=(5.5,5.5));\n",
    "#plt.xlim(envir_axes[0]);\n",
    "#plt.ylim(envir_axes[1]);"
   ]
  },
  {
   "cell_type": "markdown",
   "metadata": {},
   "source": [
    "This is a note for the code. This can be added to the report"
   ]
  },
  {
   "cell_type": "markdown",
   "metadata": {},
   "source": [
    "More precisely, given two point clouds, R (the reference) and S (the source), ICP tries to find the best rigid (or similarity) transform T so that T * S = R."
   ]
  },
  {
   "cell_type": "markdown",
   "metadata": {},
   "source": [
    "The following variables are used for the pose-graph SLAM algorithm"
   ]
  },
  {
   "cell_type": "code",
   "execution_count": 439,
   "metadata": {
    "collapsed": true
   },
   "outputs": [],
   "source": [
    "neighbors_to_match_to = 3\n",
    "# The number of points that read is matched to in the reference\n",
    "\n",
    "match_threshold_distance = 1\n",
    "# The maximum distance that a point in the read may be from a \n",
    "# point in the reference \n",
    "\n",
    "match_threshold_angle = np.pi/3\n",
    "# The maximum angle between a line through a point in the \n",
    "# read may have from a line through a point in the reference\n",
    "\n",
    "maximum_iterations = 80\n",
    "# Maximum number of iterations that the ICP algorithm may be run\n",
    "\n",
    "maximum_transform_limits = [0.8,15]\n",
    "# maximum rotation and displacement limits between pose's\n",
    "\n",
    "final_error_limit = 70\n",
    "# maximum loop closure limit \n",
    "\n",
    "ICP_success = [0.001,0.01]\n",
    "# conditions for success between successive ICP iterations\n",
    "\n",
    "overlap_threshold = 0.75\n",
    "# The amount of overlap that a read must have with the reference\n",
    "\n",
    "robot_state = 0\n",
    "# Indicates whether the robot is exploring or revisiting\n",
    "\n",
    "keyframes = []\n",
    "# Scans used to create the pose graph\n",
    "\n",
    "local_map = []\n",
    "# The sequence of keframes that the robot uses to create a map with \n",
    "# which it it comapres new scans to.\n",
    "\n",
    "local_map_size = 3\n",
    "# This is the number of keyframes that the robot uses to create the \n",
    "# local map, which it uses during exploration\n",
    "\n",
    "no_loop_window = 10\n",
    "# The number of previous and sequentail keyframes that may not be considered\n",
    "# for the loop closure process\n",
    "\n",
    "max_distance_to_loop_closing = 15\n",
    "max_error_for_loop_closing = 5000"
   ]
  },
  {
   "cell_type": "markdown",
   "metadata": {},
   "source": [
    "xxxxxxxxxxxxxxxxxxxxxxxxxxxxxxxxxxxxxxxxxxxxxxxxxxxxxxxxxxxxxxxxxxxxxxxxxxxxxxxxxxxxxxxxxxxxxxxxxxxxxxxx"
   ]
  },
  {
   "cell_type": "code",
   "execution_count": 437,
   "metadata": {
    "collapsed": true
   },
   "outputs": [],
   "source": [
    "def outlier_rejection(distances,indices,angles,S):\n",
    "    outlier_rejection_weights = np.zeros(1)\n",
    "    for i in range(distances.shape[0]):\n",
    "        for j,distance_to_point in zip(indices.shape[1],distances[i]):\n",
    "            if(distance_to_point >= match_threshold_distance and angles[j] >= match_threshold_angle):\n",
    "                outlier_rejection_weights = np.append(outlier_rejection_weights,1)\n",
    "            else:\n",
    "                outlier_rejection_weights = np.append(outlier_rejection_weights,0)\n",
    "    return np.delete(outlier_rejection_weights,0,0)"
   ]
  },
  {
   "cell_type": "code",
   "execution_count": 438,
   "metadata": {
    "collapsed": true
   },
   "outputs": [],
   "source": [
    "def matching(reference, read):\n",
    "    nbrs = NearestNeighbors(n_neighbors=neighbors_to_match_to, algorithm='ball_tree').fit(reference)\n",
    "    distances, indices = nbrs.kneighbors(read)    \n",
    "    return (distances, indices)"
   ]
  },
  {
   "cell_type": "markdown",
   "metadata": {},
   "source": [
    "xxxxxxxxxxxxxxxxxxxxxxxxxxxxxxxxxxxxxxxxxxxxxxxxxxxxxxxxxxxxxxxxxxxxxxxxxxxxxxxxxxxxxxxxxxxxxxxxxxxxxxxx"
   ]
  },
  {
   "cell_type": "markdown",
   "metadata": {},
   "source": [
    "Bounding Box Filter https://github.com/ethz-asl/libpointmatcher/blob/master/doc/Datafilters.md#bounding-box-filter-\n",
    "\n",
    "Maximum density filter https://github.com/ethz-asl/libpointmatcher/blob/master/doc/Datafilters.md#maximum-density-filter-\n",
    "\n",
    "Remove NaN filter https://github.com/ethz-asl/libpointmatcher/blob/master/doc/Datafilters.md#remove-nan-filter-\n",
    "\n",
    "observation direction filter https://github.com/ethz-asl/libpointmatcher/blob/master/doc/Datafilters.md#observation-direction-filter-\n",
    "\n",
    "surface normal filter https://github.com/ethz-asl/libpointmatcher/blob/master/doc/Datafilters.md#surface-normal-filter-\n",
    "\n",
    "orient normal filters https://github.com/ethz-asl/libpointmatcher/blob/master/doc/Datafilters.md#orient-normals-filter-"
   ]
  },
  {
   "cell_type": "code",
   "execution_count": 272,
   "metadata": {
    "collapsed": true
   },
   "outputs": [],
   "source": [
    "def subsample(S, n):\n",
    "    S_filtered = S[0:S.size:n]\n",
    "    return S_filtered"
   ]
  },
  {
   "cell_type": "code",
   "execution_count": 273,
   "metadata": {},
   "outputs": [
    {
     "name": "stdout",
     "output_type": "stream",
     "text": [
      "[ 1.00402999  1.00436997  1.00539994  1.00711     1.00951004  1.01261997\n",
      "  1.01644003  1.02098     1.02626002  1.03231001  1.03913999  1.04677999\n",
      "  1.05525005  1.06459999  1.07484996  1.08605003  1.09824002  1.11148\n",
      "  1.12582004  1.14133     1.15806997]\n",
      "[ 1.00402999  1.00951004  1.02626002  1.05525005  1.09824002  1.15806997]\n"
     ]
    }
   ],
   "source": [
    "print(LidarScans[0,0:21])\n",
    "print(subsample(LidarScans[0,0:21],4))"
   ]
  },
  {
   "cell_type": "code",
   "execution_count": 454,
   "metadata": {
    "collapsed": true
   },
   "outputs": [],
   "source": [
    "def point_normals(S):\n",
    "    nbrs = NearestNeighbors(n_neighbors=10, algorithm='kd_tree').fit(S)\n",
    "    distances, indices = nbrs.kneighbors(S)\n",
    "    normals_S = np.zeros(2)\n",
    "    pca = PCA()\n",
    "    surface_temp = np.zeros([indices.shape[1],S.shape[1]])\n",
    "    for i in range(indices.shape[0]):\n",
    "        count = 0\n",
    "        for j in indices[i]:\n",
    "            surface_temp[count] = S[j]\n",
    "            count = count + 1\n",
    "        pca_temp = pca.fit(surface_temp)\n",
    "        principle_axes = pca_temp.components_\n",
    "        normals_S = np.append(normals_S,principle_axes[1])\n",
    "        normals_S = np.reshape(normals_S,(-1,2))\n",
    "    return np.delete(normals_S,0,0)"
   ]
  },
  {
   "cell_type": "code",
   "execution_count": 455,
   "metadata": {},
   "outputs": [
    {
     "data": {
      "text/plain": [
       "(240, 2)"
      ]
     },
     "execution_count": 455,
     "metadata": {},
     "output_type": "execute_result"
    }
   ],
   "source": [
    "point_normals(ploar_to_cartesian_2D(LidarScans_angles,LidarScans[0])).shape"
   ]
  },
  {
   "cell_type": "code",
   "execution_count": 324,
   "metadata": {
    "collapsed": true
   },
   "outputs": [],
   "source": [
    "def observation_sensor_vectors(angles,S):\n",
    "    obse_sens = np.zeros(2)\n",
    "    for i in range(S.shape[0]):\n",
    "        obse_sens = np.append(obse_sens,(angles[i],S[i]))\n",
    "    obse_sens = np.reshape(obse_sens,(-1,2))\n",
    "    return np.delete(obse_sens,0,0)"
   ]
  },
  {
   "cell_type": "code",
   "execution_count": 325,
   "metadata": {},
   "outputs": [
    {
     "name": "stdout",
     "output_type": "stream",
     "text": [
      "[ 3.14159274  3.11541271  3.08923268  3.06305289  3.03687286]\n",
      "[ 1.00402999  1.00436997  1.00539994  1.00711     1.00951004]\n",
      "[[ 3.14159274  1.00402999]\n",
      " [ 3.11541271  1.00436997]\n",
      " [ 3.08923268  1.00539994]\n",
      " [ 3.06305289  1.00711   ]\n",
      " [ 3.03687286  1.00951004]]\n"
     ]
    }
   ],
   "source": [
    "print(LidarScans_angles[0:5])\n",
    "print(LidarScans[0,0:5])\n",
    "print(observation_sensor_vectors(LidarScans_angles[0:5],LidarScans[0,0:5]))"
   ]
  },
  {
   "cell_type": "code",
   "execution_count": 284,
   "metadata": {
    "collapsed": true
   },
   "outputs": [],
   "source": [
    "def unit_vector(vector):\n",
    "    return vector / np.linalg.norm(vector)"
   ]
  },
  {
   "cell_type": "code",
   "execution_count": 396,
   "metadata": {
    "collapsed": true
   },
   "outputs": [],
   "source": [
    "def angle_between(vector1,vector2):\n",
    "    angle = np.arccos(np.clip(np.dot(vector1, vector2), -1.0, 1.0))\n",
    "    cross = np.cross(vector1, vector2)\n",
    "    angle = angle*np.sign(np.dot(vector1,cross))\n",
    "    return angle[0]"
   ]
  },
  {
   "cell_type": "code",
   "execution_count": 423,
   "metadata": {
    "collapsed": true
   },
   "outputs": [],
   "source": [
    "def observation_normal_angle_minimize(normal_vectors,obse_sens_vectors):\n",
    "    angle = np.zeros(1)\n",
    "    for i in range(normal_vectors.shape[0]):\n",
    "        unit_vectors = [obse_sens_vectors[i],normal_vectors[i]]\n",
    "        temp = angle_between(unit_vectors[0], unit_vectors[1])\n",
    "        if(temp > np.pi):\n",
    "            temp = temp - np.pi\n",
    "        angle = np.append(angle,temp)\n",
    "        \n",
    "    return np.reshape(angle,(-1,1))"
   ]
  },
  {
   "cell_type": "code",
   "execution_count": 428,
   "metadata": {},
   "outputs": [
    {
     "data": {
      "text/plain": [
       "-1.5707963267948966"
      ]
     },
     "execution_count": 428,
     "metadata": {},
     "output_type": "execute_result"
    }
   ],
   "source": [
    "norm = np.array([0,-1])\n",
    "ob_se = np.array([1,0])\n",
    "unit_vectors = [ob_se,norm]\n",
    "angle_between(unit_vectors[0], unit_vectors[1])"
   ]
  },
  {
   "cell_type": "markdown",
   "metadata": {},
   "source": [
    "xxxxxxxxxxxxxxxxxxxxxxxxxxxxxxxxxxxxxxxxxxxxxxxxxxxxxxxxxxxxxxxxxxxxxxxxxxxxxxxxxxxxxxxxxxxxxxxxxxxxxxxx"
   ]
  },
  {
   "cell_type": "code",
   "execution_count": 268,
   "metadata": {
    "collapsed": true
   },
   "outputs": [],
   "source": [
    "def read_reference_transform():\n",
    "    return"
   ]
  },
  {
   "cell_type": "markdown",
   "metadata": {},
   "source": [
    "xxxxxxxxxxxxxxxxxxxxxxxxxxxxxxxxxxxxxxxxxxxxxxxxxxxxxxxxxxxxxxxxxxxxxxxxxxxxxxxxxxxxxxxxxxxxxxxxxxxxxxxx\n",
    "\n",
    "http://geomalgorithms.com/a04-_planes.html"
   ]
  },
  {
   "cell_type": "code",
   "execution_count": 429,
   "metadata": {
    "collapsed": true
   },
   "outputs": [],
   "source": [
    "def distance(read_p, reference_q_normal):\n",
    "    return np.dot(read_p,reference_q_normal)    "
   ]
  },
  {
   "cell_type": "code",
   "execution_count": 431,
   "metadata": {},
   "outputs": [
    {
     "name": "stdout",
     "output_type": "stream",
     "text": [
      "1\n"
     ]
    }
   ],
   "source": [
    "print(distance([0,1],[1,1]))"
   ]
  },
  {
   "cell_type": "markdown",
   "metadata": {},
   "source": [
    "xxxxxxxxxxxxxxxxxxxxxxxxxxxxxxxxxxxxxxxxxxxxxxxxxxxxxxxxxxxxxxxxxxxxxxxxxxxxxxxxxxxxxxxxxxxxxxxxxxxxxxxx"
   ]
  },
  {
   "cell_type": "code",
   "execution_count": 278,
   "metadata": {
    "collapsed": true
   },
   "outputs": [],
   "source": [
    "def ploar_to_cartesian_2D(angle,distance):\n",
    "    cartesian_coords = np.zeros([2])\n",
    "    for rho, phi in zip(distance,angle):\n",
    "        x = rho * np.cos(phi)\n",
    "        y = rho * np.sin(phi)\n",
    "        cartesian_coords = np.append(cartesian_coords,[x,y])\n",
    "    cartesian_coords = np.reshape(cartesian_coords,(-1,2))\n",
    "    return np.delete(cartesian_coords,0,0)"
   ]
  },
  {
   "cell_type": "code",
   "execution_count": 279,
   "metadata": {},
   "outputs": [
    {
     "data": {
      "text/plain": [
       "[<matplotlib.lines.Line2D at 0x231b4fe66d8>]"
      ]
     },
     "execution_count": 279,
     "metadata": {},
     "output_type": "execute_result"
    },
    {
     "data": {
      "image/png": "[encoded data removed]",
      "text/plain": [
       "<matplotlib.figure.Figure at 0x231b6ec8438>"
      ]
     },
     "metadata": {},
     "output_type": "display_data"
    }
   ],
   "source": [
    "plt.figure()\n",
    "\n",
    "plt.subplot(1, 2, 1)\n",
    "coords = ploar_to_cartesian_2D(LidarScans_angles,LidarScans[0])\n",
    "plt.plot(coords[:,0],coords[:,1],'.')\n",
    "plt.plot(0,0,'x')\n",
    "plt.grid(color='k', linestyle='--', linewidth=0.5)\n",
    "\n",
    "plt.subplot(1, 2, 2,projection='polar')\n",
    "plt.polar(LidarScans_angles,LidarScans[0],'.')\n",
    "plt.polar(0.,0.,'x')"
   ]
  },
  {
   "cell_type": "code",
   "execution_count": 444,
   "metadata": {
    "scrolled": true
   },
   "outputs": [
    {
     "data": {
      "image/png": "[encoded data removed]",
      "text/plain": [
       "<matplotlib.figure.Figure at 0x231b67bfa20>"
      ]
     },
     "metadata": {},
     "output_type": "display_data"
    }
   ],
   "source": [
    "plt.figure()\n",
    "\n",
    "plt.subplot(1, 2, 1)\n",
    "coords = ploar_to_cartesian_2D(LidarScans_angles,LidarScans[0])\n",
    "plt.plot(coords[:,0],coords[:,1],'.')\n",
    "plt.plot(0,0,'x')\n",
    "plt.grid(color='k', linestyle='--', linewidth=0.5)\n",
    "\n",
    "plt.subplot(1, 2, 2)\n",
    "coords = ploar_to_cartesian_2D(LidarScans_angles,LidarScans[10])\n",
    "plt.plot(coords[:,0],coords[:,1],'.')\n",
    "plt.plot(0,0,'x')\n",
    "plt.grid(color='k', linestyle='--', linewidth=0.5)"
   ]
  },
  {
   "cell_type": "code",
   "execution_count": 453,
   "metadata": {},
   "outputs": [
    {
     "data": {
      "text/plain": [
       "[<matplotlib.lines.Line2D at 0x231c9e7abe0>]"
      ]
     },
     "execution_count": 453,
     "metadata": {},
     "output_type": "execute_result"
    },
    {
     "data": {
      "image/png": "[encoded data removed]",
      "text/plain": [
       "<matplotlib.figure.Figure at 0x231cb5738d0>"
      ]
     },
     "metadata": {},
     "output_type": "display_data"
    }
   ],
   "source": [
    "plt.figure()\n",
    "\n",
    "coords = ploar_to_cartesian_2D(LidarScans_angles,LidarScans[0])\n",
    "plt.plot(Trajectory[0,0] + coords[:,0],Trajectory[0,1] + coords[:,1],'.')\n",
    "plt.plot(Trajectory[0,0],Trajectory[0,1],'x')\n",
    "plt.grid(color='k', linestyle='--', linewidth=0.5)\n",
    "\n",
    "coords = ploar_to_cartesian_2D(LidarScans_angles,LidarScans[10])\n",
    "plt.plot(Trajectory[10,0] + coords[:,0],Trajectory[10,1] + coords[:,1],'.')"
   ]
  },
  {
   "cell_type": "code",
   "execution_count": null,
   "metadata": {
    "collapsed": true
   },
   "outputs": [],
   "source": [
    "def cartesian_to_ploar_2D(cartesian_coords):\n",
    "    polar_coords = np.zeros([2])\n",
    "    for rho, phi in zip(cartesian_coords[,],cartesian_coords[,]):\n",
    "        x = rho * np.cos(phi)\n",
    "        y = rho * np.sin(phi)\n",
    "        cartesian_coords = np.append(cartesian_coords,[x,y])\n",
    "    cartesian_coords = np.reshape(cartesian_coords,(-1,2))\n",
    "    return np.delete(cartesian_coords,0,0)\n",
    "\n",
    "def cart2pol(x, y):\n",
    "    rho = np.sqrt(x**2 + y**2)\n",
    "    phi = np.arctan2(y, x)\n",
    "    return(rho, phi)"
   ]
  },
  {
   "cell_type": "markdown",
   "metadata": {},
   "source": [
    "xxxxxxxxxxxxxxxxxxxxxxxxxxxxxxxxxxxxxxxxxxxxxxxxxxxxxxxxxxxxxxxxxxxxxxxxxxxxxxxxxxxxxxxxxxxxxxxxxxxxxxxx"
   ]
  },
  {
   "cell_type": "code",
   "execution_count": 442,
   "metadata": {
    "collapsed": true
   },
   "outputs": [],
   "source": [
    "def plot_scan_surfaces(S_cartesian,highlighted_section_cartesian):\n",
    "    \n",
    "    plt.figure()\n",
    "    \n",
    "    plt.plot(S_cartesian[:,0],S_cartesian[:,1],'.')\n",
    "    plt.plot(highlighted_section_cartesian[:,0],highlighted_section_cartesian[:,1],'.')\n",
    "    plt.plot(0,0,'x')\n",
    "    plt.grid(color='k', linestyle='--', linewidth=0.5)"
   ]
  },
  {
   "cell_type": "code",
   "execution_count": 281,
   "metadata": {},
   "outputs": [
    {
     "data": {
      "image/png": "[encoded data removed]",
      "text/plain": [
       "<matplotlib.figure.Figure at 0x231b81e21d0>"
      ]
     },
     "metadata": {},
     "output_type": "display_data"
    }
   ],
   "source": [
    "plot_scan_surfaces(ploar_to_cartesian_2D(LidarScans_angles,LidarScans[0]),ploar_to_cartesian_2D(LidarScans_angles,LidarScans[0])[0:21])"
   ]
  },
  {
   "cell_type": "code",
   "execution_count": 282,
   "metadata": {
    "collapsed": true
   },
   "outputs": [],
   "source": [
    "def plot_custom_axes(axis_list,origin_coords):\n",
    "    for axis in axis_list:\n",
    "        axis /= axis.std()\n",
    "        x_axis, y_axis = axis\n",
    "        # Trick to get legend to work\n",
    "        plt.plot(0.1 * x_axis, 0.1 * y_axis, linewidth=0.01)\n",
    "        plt.quiver(origin_coords[0], origin_coords[1], x_axis, y_axis, zorder=11, width=0.005, scale=15)"
   ]
  },
  {
   "cell_type": "code",
   "execution_count": 283,
   "metadata": {},
   "outputs": [
    {
     "name": "stdout",
     "output_type": "stream",
     "text": [
      "(2, 2)\n",
      "(2, 2)\n"
     ]
    },
    {
     "data": {
      "image/png": "[encoded data removed]",
      "text/plain": [
       "<matplotlib.figure.Figure at 0x231bc87f588>"
      ]
     },
     "metadata": {},
     "output_type": "display_data"
    }
   ],
   "source": [
    "axes = np.array([[1.,0.],[0.,-1.]])\n",
    "print(axes.shape)\n",
    "plot_custom_axes(axes,[0.01,-0.01])\n",
    "axes = np.array([[-1.,0.],[0.,1.]])\n",
    "print(axes.shape)\n",
    "plot_custom_axes(axes,[-0.01,0.01])"
   ]
  },
  {
   "cell_type": "markdown",
   "metadata": {},
   "source": [
    "xxxxxxxxxxxxxxxxxxxxxxxxxxxxxxxxxxxxxxxxxxxxxxxxxxxxxxxxxxxxxxxxxxxxxxxxxxxxxxxxxxxxxxxxxxxxxxxxxxxxxxxx"
   ]
  },
  {
   "cell_type": "code",
   "execution_count": 11,
   "metadata": {
    "collapsed": true
   },
   "outputs": [],
   "source": [
    "def ICP_registration_algorithm():    \n",
    "    return"
   ]
  },
  {
   "cell_type": "markdown",
   "metadata": {},
   "source": [
    "xxxxxxxxxxxxxxxxxxxxxxxxxxxxxxxxxxxxxxxxxxxxxxxxxxxxxxxxxxxxxxxxxxxxxxxxxxxxxxxxxxxxxxxxxxxxxxxxxxxxxxxx"
   ]
  },
  {
   "cell_type": "code",
   "execution_count": 440,
   "metadata": {
    "collapsed": true
   },
   "outputs": [],
   "source": [
    "def overlap_ratio(filtered_scan,filtered_scan_with_weights):\n",
    "    return (filtered_scan_with_weights.shape[0])/(filtered_scan.shape[0])"
   ]
  },
  {
   "cell_type": "code",
   "execution_count": null,
   "metadata": {
    "collapsed": true
   },
   "outputs": [],
   "source": []
  },
  {
   "cell_type": "markdown",
   "metadata": {},
   "source": [
    "xxxxxxxxxxxxxxxxxxxxxxxxxxxxxxxxxxxxxxxxxxxxxxxxxxxxxxxxxxxxxxxxxxxxxxxxxxxxxxxxxxxxxxxxxxxxxxxxxxxxxxxx"
   ]
  },
  {
   "cell_type": "code",
   "execution_count": null,
   "metadata": {
    "collapsed": true
   },
   "outputs": [],
   "source": [
    "def loop_closing():\n",
    "    return"
   ]
  },
  {
   "cell_type": "markdown",
   "metadata": {},
   "source": [
    "xxxxxxxxxxxxxxxxxxxxxxxxxxxxxxxxxxxxxxxxxxxxxxxxxxxxxxxxxxxxxxxxxxxxxxxxxxxxxxxxxxxxxxxxxxxxxxxxxxxxxxxx"
   ]
  },
  {
   "cell_type": "code",
   "execution_count": null,
   "metadata": {
    "collapsed": true
   },
   "outputs": [],
   "source": []
  },
  {
   "cell_type": "markdown",
   "metadata": {},
   "source": [
    "xxxxxxxxxxxxxxxxxxxxxxxxxxxxxxxxxxxxxxxxxxxxxxxxxxxxxxxxxxxxxxxxxxxxxxxxxxxxxxxxxxxxxxxxxxxxxxxxxxxxxxxx"
   ]
  }
 ],
 "metadata": {
  "kernelspec": {
   "display_name": "Python 3",
   "language": "python",
   "name": "python3"
  },
  "language_info": {
   "codemirror_mode": {
    "name": "ipython",
    "version": 3
   },
   "file_extension": ".py",
   "mimetype": "text/x-python",
   "name": "python",
   "nbconvert_exporter": "python",
   "pygments_lexer": "ipython3",
   "version": "3.6.3"
  }
 },
 "nbformat": 4,
 "nbformat_minor": 2
}
