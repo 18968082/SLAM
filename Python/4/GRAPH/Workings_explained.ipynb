{
 "cells": [
  {
   "cell_type": "code",
   "execution_count": 23,
   "metadata": {
    "collapsed": true
   },
   "outputs": [],
   "source": [
    "import numpy as np\n",
    "from matplotlib import pyplot as plt\n",
    "%matplotlib inline\n",
    "\n",
    "from sklearn.decomposition import PCA\n",
    "from sklearn.neighbors import NearestNeighbors\n",
    "from scipy import linalg\n",
    "from scipy.optimize import root\n",
    "\n",
    "import sys\n",
    "sys.path.insert(0, 'code')\n",
    "\n",
    "from robot_data import Load_Lidar_Scans as load_scans\n",
    "from robot_data import Lidar_Scan\n",
    "from robot_data import robot_trajectory\n",
    "from datafilters import filters\n",
    "import coordinate_transforms as cord_trans\n",
    "import visualizer\n",
    "import ICP"
   ]
  },
  {
   "cell_type": "markdown",
   "metadata": {},
   "source": [
    "# All the variables that have been created to retrieve the data:"
   ]
  },
  {
   "cell_type": "code",
   "execution_count": 24,
   "metadata": {
    "collapsed": false
   },
   "outputs": [
    {
     "name": "stdout",
     "output_type": "stream",
     "text": [
      "Trajectory:  (52, 3)\n",
      "traj_len:  52\n",
      "traj_dim:  2 \n",
      "\n",
      "LidarScans:  (51, 240)\n",
      "num_of_lidarscans:  240\n",
      "LidarScans_angles:  (240,)\n"
     ]
    }
   ],
   "source": [
    "scans_OBJ = load_scans()\n",
    "scans_OBJ.load_ranges('data\\\\LidarScans_ranges.txt')\n",
    "scans_OBJ.load_angles('data\\\\LidarScans_angles.txt')\n",
    "\n",
    "trajectory_OBJ = robot_trajectory()\n",
    "trajectory_OBJ.load_trajectory('data\\\\Trajectory.txt')\n",
    "\n",
    "print('Trajectory: ',trajectory_OBJ.trajectory.shape)\n",
    "print('traj_len: ',trajectory_OBJ.trajectory_length)\n",
    "print('traj_dim: ',trajectory_OBJ.trajectory_dimension,'\\n')\n",
    "\n",
    "print('LidarScans: ',scans_OBJ.LidarScan_ranges.shape)\n",
    "print('num_of_lidarscans: ',scans_OBJ.num_of_LidarScans)\n",
    "print('LidarScans_angles: ',scans_OBJ.LidarScan_angles.shape)"
   ]
  },
  {
   "cell_type": "markdown",
   "metadata": {},
   "source": [
    "# XXXXXXXXXXXXXXXXXXXXXXXXXXXXXXXXX"
   ]
  },
  {
   "cell_type": "code",
   "execution_count": 25,
   "metadata": {
    "collapsed": true
   },
   "outputs": [],
   "source": [
    "import math\n",
    "import copy\n",
    "import itertools"
   ]
  },
  {
   "cell_type": "code",
   "execution_count": 26,
   "metadata": {
    "collapsed": true
   },
   "outputs": [],
   "source": [
    "#  Simulation parameter\n",
    "Qsim = np.diag([0.2, np.deg2rad(1.0)])**2\n",
    "#[[0.04000 0.00000]\n",
    "# [0.00000 0.00030]]\n",
    "\n",
    "Rsim = np.diag([0.1, np.deg2rad(10.0)])**2\n",
    "#[[0.01000 0.00000]\n",
    " #[0.00000 0.03046]] \n",
    "\n",
    "DT = 2.0  # time tick [s]\n",
    "SIM_TIME = 100.0  # simulation time [s]\n",
    "MAX_RANGE = 30.0  # maximum observation range\n",
    "STATE_SIZE = 3  # State size [x,y,yaw]\n",
    "\n",
    "# Covariance parameter of Graph Based SLAM\n",
    "C_SIGMA1 = 0.1\n",
    "#0.1\n",
    "\n",
    "C_SIGMA2 = 0.1\n",
    "#0.1\n",
    "\n",
    "C_SIGMA3 = np.deg2rad(1.0)\n",
    "# 0.0174532925199\n",
    "\n",
    "MAX_ITR = 20  # Maximum iteration\n",
    "#20\n",
    "\n",
    "show_graph_dtime = 20.0  # [s]\n",
    "#20\n",
    "\n",
    "show_animation = True"
   ]
  },
  {
   "cell_type": "code",
   "execution_count": 27,
   "metadata": {
    "collapsed": true
   },
   "outputs": [],
   "source": [
    "def calc_input():\n",
    "    v = 1.0  # [m/s]\n",
    "    yawrate = 0.1  # [rad/s]\n",
    "    u = np.matrix([v, yawrate]).T\n",
    "    \n",
    "#    [[1.00000],\n",
    "#     [0.10000]]\n",
    "\n",
    "# this seems to be the motion of the robot. The returned matrix only has\n",
    "# two entries, most probably representing velocity based motion model.\n",
    "\n",
    "# This function will be replaced when added to the main program as the \n",
    "# trajectory is already given.\n",
    "    \n",
    "    return u"
   ]
  },
  {
   "cell_type": "code",
   "execution_count": 28,
   "metadata": {
    "collapsed": true
   },
   "outputs": [],
   "source": [
    "def pi_2_pi(angle):\n",
    "    return (angle + math.pi) % (2 * math.pi) - math.pi\n",
    "\n",
    "#print(np.rad2deg(9*np.pi/4)) -> 405.0\n",
    "#print(np.rad2deg(pi_2_pi(9*np.pi/4))) -> 45.0\n",
    "\n",
    "# This reduces the angle to some angle between 0 and 2*pi"
   ]
  },
  {
   "cell_type": "code",
   "execution_count": 29,
   "metadata": {
    "collapsed": true
   },
   "outputs": [],
   "source": [
    "class Edge():\n",
    "\n",
    "    def __init__(self):\n",
    "        self.e = np.zeros((3, 1))\n",
    "        #self.error\n",
    "        self.omega = np.zeros((3, 3))  # information matrix\n",
    "        #self.information_matrix \n",
    "        self.d1 = 0.0\n",
    "        self.d2 = 0.0\n",
    "        self.yaw1 = 0.0\n",
    "        self.yaw2 = 0.0\n",
    "        self.angle1 = 0.0\n",
    "        self.angle2 = 0.0\n",
    "        self.id1 = 0\n",
    "        self.id2 = 0"
   ]
  },
  {
   "cell_type": "code",
   "execution_count": 30,
   "metadata": {
    "collapsed": true
   },
   "outputs": [],
   "source": [
    "def cal_observation_sigma(d):\n",
    "\n",
    "    sigma = np.zeros((3, 3))\n",
    "    sigma[0, 0] = C_SIGMA1**2\n",
    "    sigma[1, 1] = C_SIGMA2**2\n",
    "    sigma[2, 2] = C_SIGMA3**2\n",
    "    \n",
    "#    [[0.01000, 0.00000, 0.00000],\n",
    "#     [0.00000, 0.01000, 0.00000],\n",
    "#     [0.00000, 0.00000, 0.00030]]\n",
    "\n",
    "# this is just a diagonal matrix, most probably just the covariance matrix\n",
    "# of the data set. This value is constant across all points.\n",
    "\n",
    "    return sigma"
   ]
  },
  {
   "cell_type": "code",
   "execution_count": 31,
   "metadata": {
    "collapsed": true
   },
   "outputs": [],
   "source": [
    "def calc_rotational_matrix(angle):\n",
    "\n",
    "    Rt = np.matrix([[math.cos(angle), -math.sin(angle), 0],\n",
    "                    [math.sin(angle), math.cos(angle), 0],\n",
    "                    [0, 0, 1.0]])\n",
    "\n",
    "# calc_rotational_matrix(np.pi/2)    \n",
    "    \n",
    "#    [[0.00000, -1.00000, 0.00000],\n",
    "#     [1.00000, 0.00000, 0.00000],\n",
    "#     [0.00000, 0.00000, 1.00000]]\n",
    " \n",
    "# This is a homogeneous rotation matrix, given the angle in radians i think\n",
    "# \n",
    "    \n",
    "    return Rt"
   ]
  },
  {
   "cell_type": "code",
   "execution_count": 32,
   "metadata": {
    "collapsed": true
   },
   "outputs": [],
   "source": [
    "def calc_edge(x1, y1, yaw1, x2, y2, yaw2, \n",
    "              #[x1, first pose], [x2 second pose]\n",
    "              d1,angle1,phi1, \n",
    "              #this is the position of x2 from x1\n",
    "              d2, angle2, phi2, \n",
    "              #this is the position of x1 from x2\n",
    "              t1, t2):\n",
    "              #this seems like time instances \n",
    "    \n",
    "    edge = Edge()\n",
    "\n",
    "    tangle1 = pi_2_pi(yaw1 + angle1)\n",
    "    #angle between x1 and the seen position of x2 from x1\n",
    "    tangle2 = pi_2_pi(yaw2 + angle2)\n",
    "    #angle between x2 and the seen position of x1 from x2\n",
    "    tmp1 = d1 * math.cos(tangle1)\n",
    "    tmp3 = d1 * math.sin(tangle1)\n",
    "    #position of x2 as seen from x1\n",
    "    tmp2 = d2 * math.cos(tangle2)\n",
    "    tmp4 = d2 * math.sin(tangle2)\n",
    "    #position of x1 as seen from x2\n",
    "\n",
    "    edge.e[0, 0] = x2 - x1 - tmp1 + tmp2\n",
    "    #difference in x between the two points\n",
    "    edge.e[1, 0] = y2 - y1 - tmp3 + tmp4\n",
    "    #difference in y between the two points\n",
    "    hyaw = phi1 - phi2 + angle1 - angle2\n",
    "    # this was taken from the videos for error in velocity motion model\n",
    "    edge.e[2, 0] = pi_2_pi(yaw2 - yaw1 - hyaw)\n",
    "    #difference in theta between the two points\n",
    "    \n",
    "    # this populates the error function of this edge with the difference \n",
    "    # in the x,y,theta measurements\n",
    "\n",
    "    Rt1 = calc_rotational_matrix(tangle1)\n",
    "    Rt2 = calc_rotational_matrix(tangle2)\n",
    "    #produces the rotation matrix for the two angles\n",
    "\n",
    "    sig1 = cal_observation_sigma(d1)\n",
    "    sig2 = cal_observation_sigma(d2)\n",
    "    #produces the same covariance matrix for both d's\n",
    "\n",
    "    edge.omega = np.linalg.inv(Rt1 * sig1 * Rt1.T + Rt2 * sig2 * Rt2.T)\n",
    "    # this breaks down into two components, each with:\n",
    "    # R Sigma R^T\n",
    "    # This forms the new information matrix\n",
    "    \n",
    "    edge.d1, edge.d2 = d1, d2\n",
    "    edge.yaw1, edge.yaw2 = yaw1, yaw2\n",
    "    edge.angle1, edge.angle2 = angle1, angle2\n",
    "    edge.id1, edge.id2 = t1, t2\n",
    "    \n",
    "    # creates a new edge between the two points, containing the new values\n",
    "    # for the error, information matrix and the same values for the rest of \n",
    "    # the edge values.\n",
    "\n",
    "    return edge"
   ]
  },
  {
   "cell_type": "code",
   "execution_count": 34,
   "metadata": {
    "collapsed": true
   },
   "outputs": [],
   "source": [
    "def calc_jacobian(edge):\n",
    "    t1 = edge.yaw1 + edge.angle1\n",
    "    A = np.matrix([[-1.0, 0, edge.d1 * math.sin(t1)],\n",
    "                   [0, -1.0, -edge.d1 * math.cos(t1)],\n",
    "                   [0, 0, -1.0]])\n",
    "\n",
    "    t2 = edge.yaw2 + edge.angle2\n",
    "    B = np.matrix([[1.0, 0, -edge.d2 * math.sin(t2)],\n",
    "                   [0, 1.0, edge.d2 * math.cos(t2)],\n",
    "                   [0, 0, 1.0]])\n",
    "\n",
    "# returns the jacobian for a specific edge\n",
    "# i have no idea how this works\n",
    "    \n",
    "    return A, B"
   ]
  },
  {
   "cell_type": "code",
   "execution_count": 35,
   "metadata": {
    "collapsed": true
   },
   "outputs": [],
   "source": [
    "def fill_H_and_b(H, b, edge):\n",
    "\n",
    "    A, B = calc_jacobian(edge)\n",
    "\n",
    "    id1 = edge.id1 * STATE_SIZE\n",
    "    id2 = edge.id2 * STATE_SIZE\n",
    "\n",
    "    H[id1:id1 + STATE_SIZE, id1:id1 + STATE_SIZE] += A.T * edge.omega * A\n",
    "    H[id1:id1 + STATE_SIZE, id2:id2 + STATE_SIZE] += A.T * edge.omega * B\n",
    "    H[id2:id2 + STATE_SIZE, id1:id1 + STATE_SIZE] += B.T * edge.omega * A\n",
    "    H[id2:id2 + STATE_SIZE, id2:id2 + STATE_SIZE] += B.T * edge.omega * B\n",
    "\n",
    "    b[id1:id1 + STATE_SIZE, 0] += (A.T * edge.omega * edge.e)\n",
    "    b[id2:id2 + STATE_SIZE, 0] += (B.T * edge.omega * edge.e)\n",
    "    \n",
    "    # addes the terms to the H and b terms exactly out of the videos.\n",
    "\n",
    "    return H, b"
   ]
  },
  {
   "cell_type": "code",
   "execution_count": 33,
   "metadata": {
    "collapsed": true
   },
   "outputs": [],
   "source": [
    "def calc_edges(xlist, zlist):\n",
    "\n",
    "    edges = []\n",
    "    cost = 0.0\n",
    "    zids = list(itertools.combinations(range(len(zlist)), 2))\n",
    "    # combinations(range(4), 3) --> 012 013 023 123\n",
    "\n",
    "    for (t1, t2) in zids:\n",
    "        x1, y1, yaw1 = xlist[0, t1], xlist[1, t1], xlist[2, t1]\n",
    "        x2, y2, yaw2 = xlist[0, t2], xlist[1, t2], xlist[2, t2]\n",
    "        # it seems like the values of the two points are stacked vertically\n",
    "\n",
    "        if zlist[t1] is None or zlist[t2] is None:\n",
    "            continue  # No observation Skips the current itteration of the\n",
    "            # for loop\n",
    "\n",
    "        for iz1 in range(len(zlist[t1][:, 0])):\n",
    "            for iz2 in range(len(zlist[t2][:, 0])):\n",
    "                if zlist[t1][iz1, 3] == zlist[t2][iz2, 3]:\n",
    "                    d1 = zlist[t1][iz1, 0]\n",
    "                    angle1, phi1 = zlist[t1][iz1, 1], zlist[t1][iz1, 2]\n",
    "                    d2 = zlist[t2][iz2, 0]\n",
    "                    angle2, phi2 = zlist[t2][iz2, 1], zlist[t2][iz2, 2]\n",
    "                    # extracting the the x,y,theta from the two points with\n",
    "                    # an edge between them. Also it \n",
    "                    edge = calc_edge(x1, y1, yaw1, x2, y2, yaw2, d1,\n",
    "                                     angle1, phi1, d2, angle2, phi2, t1, t2)\n",
    "\n",
    "                    edges.append(edge)\n",
    "                    cost += (edge.e.T * edge.omega * edge.e)[0, 0]\n",
    "\n",
    "    print(\"cost:\", cost, \",nedge:\", len(edges))\n",
    "    return edges"
   ]
  },
  {
   "cell_type": "code",
   "execution_count": 36,
   "metadata": {
    "collapsed": true
   },
   "outputs": [],
   "source": [
    "def graph_based_slam(x_init, hz):\n",
    "    print(\"start graph based slam\")\n",
    "\n",
    "    zlist = copy.deepcopy(hz)\n",
    "    zlist.insert(1, zlist[0])\n",
    "\n",
    "    x_opt = copy.deepcopy(x_init)\n",
    "    nt = x_opt.shape[1]\n",
    "    n = nt * STATE_SIZE\n",
    "\n",
    "    for itr in range(MAX_ITR):\n",
    "        edges = calc_edges(x_opt, zlist)\n",
    "\n",
    "        H = np.matrix(np.zeros((n, n)))\n",
    "        b = np.matrix(np.zeros((n, 1)))\n",
    "\n",
    "        for edge in edges:\n",
    "            H, b = fill_H_and_b(H, b, edge)\n",
    "\n",
    "        # to fix origin\n",
    "        H[0:STATE_SIZE, 0:STATE_SIZE] += np.identity(STATE_SIZE)\n",
    "\n",
    "        dx = - np.linalg.inv(H).dot(b)\n",
    "\n",
    "        for i in range(nt):\n",
    "            x_opt[0:3, i] += dx[i * 3:i * 3 + 3, 0]\n",
    "\n",
    "        diff = dx.T.dot(dx)\n",
    "        print(\"iteration: %d, diff: %f\" % (itr + 1, diff))\n",
    "        if diff < 1.0e-5:\n",
    "            break\n",
    "\n",
    "    return x_opt"
   ]
  },
  {
   "cell_type": "code",
   "execution_count": 37,
   "metadata": {
    "collapsed": true
   },
   "outputs": [],
   "source": [
    "def observation(xTrue, xd, u, RFID):\n",
    "    #receives the true path of the robot, the dead reckoning estimate of the path.\n",
    "    #The control input of the robot, the positioning of the landmarks within the environment\n",
    "\n",
    "    xTrue = motion_model(xTrue, u)\n",
    "    #simulates the motion of the robot, adjust the current position by the control input\n",
    "\n",
    "    # add noise to gps x-y\n",
    "    z = np.matrix(np.zeros((0, 4)))\n",
    "\n",
    "    for i in range(len(RFID[:, 0])): #iterates across of all the landmarks\n",
    "\n",
    "        dx = RFID[i, 0] - xTrue[0, 0]\n",
    "        dy = RFID[i, 1] - xTrue[1, 0]\n",
    "        # Determines the x,y difference between the current robot position and every \n",
    "        # landmark\n",
    "        d = math.sqrt(dx**2 + dy**2)\n",
    "        # calculates the distance betweent the curent robot position and every \n",
    "        # landmark\n",
    "        angle = pi_2_pi(math.atan2(dy, dx)) - xTrue[2, 0]\n",
    "        # calculate the angle difference between the orientation angle of the robot \n",
    "        # and the position of the landmark\n",
    "        phi = pi_2_pi(math.atan2(dy, dx))\n",
    "        # calculate the angle between the x-axis, origin at the robots center and \n",
    "        # the position of the landmark from the robot\n",
    "        if d <= MAX_RANGE:\n",
    "            dn = d + np.random.randn() * Qsim[0, 0]  # add noise\n",
    "            anglen = angle + np.random.randn() * Qsim[1, 1]  # add noise\n",
    "            zi = np.matrix([dn, anglen, phi, i])\n",
    "            # this stores the distance between, angle between, angle from x-axis and the \n",
    "            # landmark number of every landmark from the current position of the robot\n",
    "            z = np.vstack((z, zi))\n",
    "\n",
    "    # add noise to input\n",
    "    ud1 = u[0, 0] + np.random.randn() * Rsim[0, 0]\n",
    "    ud2 = u[1, 0] + np.random.randn() * Rsim[1, 1]\n",
    "    ud = np.matrix([ud1, ud2]).T\n",
    "    #adds noise to the control input\n",
    "\n",
    "    xd = motion_model(xd, ud)\n",
    "\n",
    "    return xTrue, z, xd, ud\n",
    "# returns the tru position of the robot, the matrix of distances/angles of every landmark from\n",
    "# the robot, the dead reckoning position of the robot, the control input with noise"
   ]
  },
  {
   "cell_type": "code",
   "execution_count": 38,
   "metadata": {
    "collapsed": true
   },
   "outputs": [],
   "source": [
    "def motion_model(x, u):\n",
    "    #receives a position and control input\n",
    "\n",
    "    F = np.matrix([[1.0, 0, 0],\n",
    "                   [0, 1.0, 0],\n",
    "                   [0, 0, 1.0]])\n",
    "\n",
    "    B = np.matrix([[DT * math.cos(x[2, 0]), 0],\n",
    "                   [DT * math.sin(x[2, 0]), 0],\n",
    "                   [0.0, DT]])\n",
    "\n",
    "    x = F * x + B * u\n",
    "    #transforms the position by the control input\n",
    "    #simulation a control action being taken\n",
    "    \n",
    "    return x"
   ]
  },
  {
   "cell_type": "code",
   "execution_count": 39,
   "metadata": {
    "collapsed": false
   },
   "outputs": [
    {
     "name": "stdout",
     "output_type": "stream",
     "text": [
      " start!!\n",
      "start graph based slam\n",
      "cost: 930896.103941 ,nedge: 275\n",
      "iteration: 1, diff: 52.277508\n",
      "cost: 780534.996681 ,nedge: 275\n",
      "iteration: 2, diff: 1.457252\n",
      "cost: 770211.119351 ,nedge: 275\n",
      "iteration: 3, diff: 0.003754\n",
      "cost: 770201.934198 ,nedge: 275\n",
      "iteration: 4, diff: 0.000000\n",
      "start graph based slam\n",
      "cost: 5362115.14852 ,nedge: 1050\n",
      "iteration: 1, diff: 196.108154\n",
      "cost: 4598752.05518 ,nedge: 1050\n",
      "iteration: 2, diff: 6.160954\n",
      "cost: 4526423.84917 ,nedge: 1050\n",
      "iteration: 3, diff: 0.502516\n",
      "cost: 4518514.52555 ,nedge: 1050\n",
      "iteration: 4, diff: 0.418638\n",
      "cost: 4512070.97142 ,nedge: 1050\n",
      "iteration: 5, diff: 0.059335\n",
      "cost: 4511547.40222 ,nedge: 1050\n",
      "iteration: 6, diff: 0.000002\n",
      "start graph based slam\n",
      "cost: 13611829.008 ,nedge: 2325\n",
      "iteration: 1, diff: 638.390798\n",
      "cost: 11090624.2806 ,nedge: 2325\n",
      "iteration: 2, diff: 13.197192\n",
      "cost: 10938537.149 ,nedge: 2325\n",
      "iteration: 3, diff: 0.454163\n",
      "cost: 10930949.6608 ,nedge: 2325\n",
      "iteration: 4, diff: 0.073678\n",
      "cost: 10930231.2417 ,nedge: 2325\n",
      "iteration: 5, diff: 0.000003\n",
      "start graph based slam\n",
      "cost: 23120960.3401 ,nedge: 4100\n",
      "iteration: 1, diff: 1035.972658\n",
      "cost: 18774136.0996 ,nedge: 4100\n",
      "iteration: 2, diff: 14.805322\n",
      "cost: 18616095.9438 ,nedge: 4100\n",
      "iteration: 3, diff: 0.241450\n",
      "cost: 18611816.0084 ,nedge: 4100\n",
      "iteration: 4, diff: 0.007933\n",
      "cost: 18611680.8444 ,nedge: 4100\n",
      "iteration: 5, diff: 0.000000\n",
      "start graph based slam\n",
      "cost: 35929986.7719 ,nedge: 6375\n",
      "iteration: 1, diff: 1265.197991\n",
      "cost: 29891874.8906 ,nedge: 6375\n",
      "iteration: 2, diff: 15.597018\n",
      "cost: 29602446.7129 ,nedge: 6375\n",
      "iteration: 3, diff: 0.994910\n",
      "cost: 29579875.4724 ,nedge: 6375\n",
      "iteration: 4, diff: 0.047834\n",
      "cost: 29578998.879 ,nedge: 6375\n",
      "iteration: 5, diff: 0.000001\n"
     ]
    },
    {
     "data": {
      "image/png": "[encoded data removed]",
      "text/plain": [
       "<matplotlib.figure.Figure at 0x5b3b8d0>"
      ]
     },
     "metadata": {},
     "output_type": "display_data"
    }
   ],
   "source": [
    "print(\" start!!\")\n",
    "\n",
    "time = 0.0\n",
    "\n",
    "# RFID positions [x, y, theta] These are the landmarks in the environment stcaked in to a Nx3 matrix\n",
    "RFID = np.array([[10.0, -2.0, 0.0],\n",
    "                 [15.0, 10.0, 0.0],\n",
    "                 [3.0, 15.0, 0.0],\n",
    "                 [-5.0, 20.0, 0.0],\n",
    "                 [-5.0, 5.0, 0.0]\n",
    "                 ])\n",
    "#I will not be able to use these landmarks.\n",
    "\n",
    "xTrue = np.matrix(np.zeros((STATE_SIZE, 1))) \n",
    "# State Vector [x y theta v]\n",
    "\n",
    "xDR = np.matrix(np.zeros((STATE_SIZE, 1)))  \n",
    "# Dead reckoning\n",
    "\n",
    "# history of trajectory\n",
    "hxTrue = xTrue\n",
    "hxDR = xTrue\n",
    "hz = []\n",
    "dtime = 0.0\n",
    "\n",
    "while SIM_TIME >= time: # while we have not reached the end of the simulation\n",
    "    time += DT\n",
    "    dtime += DT\n",
    "    u = calc_input()\n",
    "    # increment the time step and simulate the robot control input\n",
    "\n",
    "    xTrue, z, xDR, ud = observation(xTrue, xDR, u, RFID)\n",
    "\n",
    "    hxDR = np.hstack((hxDR, xDR))\n",
    "    hxTrue = np.hstack((hxTrue, xTrue))\n",
    "    hz.append(z)\n",
    "\n",
    "    if dtime >= show_graph_dtime:\n",
    "        x_opt = graph_based_slam(hxDR, hz)\n",
    "        dtime = 0.0\n",
    "\n",
    "        if show_animation:\n",
    "            plt.cla()\n",
    "\n",
    "            plt.plot(RFID[:, 0], RFID[:, 1], \"*k\")\n",
    "\n",
    "            plt.plot(np.array(hxTrue[0, :]).flatten(),\n",
    "                     np.array(hxTrue[1, :]).flatten(), \"-b\")\n",
    "            plt.plot(np.array(hxDR[0, :]).flatten(),\n",
    "                     np.array(hxDR[1, :]).flatten(), \"-k\")\n",
    "            plt.plot(np.array(x_opt[0, :]).flatten(),\n",
    "                     np.array(x_opt[1, :]).flatten(), \"-r\")\n",
    "            plt.axis(\"equal\")\n",
    "            plt.grid(True)\n",
    "            plt.title(\"Time\" + str(time)[0:5])\n",
    "            plt.pause(1.0)"
   ]
  }
 ],
 "metadata": {
  "kernelspec": {
   "display_name": "Python 3",
   "language": "python",
   "name": "python3"
  },
  "language_info": {
   "codemirror_mode": {
    "name": "ipython",
    "version": 3
   },
   "file_extension": ".py",
   "mimetype": "text/x-python",
   "name": "python",
   "nbconvert_exporter": "python",
   "pygments_lexer": "ipython3",
   "version": "3.4.4"
  }
 },
 "nbformat": 4,
 "nbformat_minor": 2
}
