{
 "cells": [
  {
   "cell_type": "code",
   "execution_count": 3,
   "metadata": {
    "collapsed": true
   },
   "outputs": [],
   "source": [
    "import numpy as np\n",
    "from matplotlib import pyplot as plt\n",
    "%matplotlib inline\n",
    "\n",
    "from sklearn.decomposition import PCA\n",
    "from sklearn.neighbors import NearestNeighbors\n",
    "from scipy import linalg\n",
    "from scipy.optimize import root\n",
    "\n",
    "import sys\n",
    "sys.path.insert(0, 'code')\n",
    "\n",
    "from robot_data import Load_Lidar_Scans as load_scans\n",
    "from robot_data import Lidar_Scan\n",
    "from robot_data import robot_trajectory\n",
    "from datafilters import filters\n",
    "import coordinate_transforms as cord_trans\n",
    "import visualizer\n",
    "import ICP"
   ]
  },
  {
   "cell_type": "markdown",
   "metadata": {},
   "source": [
    "# All the variables that have been created to retrieve the data:"
   ]
  },
  {
   "cell_type": "code",
   "execution_count": 4,
   "metadata": {},
   "outputs": [
    {
     "name": "stdout",
     "output_type": "stream",
     "text": [
      "Trajectory:  (52, 3)\n",
      "traj_len:  52\n",
      "traj_dim:  2 \n",
      "\n",
      "LidarScans:  (51, 240)\n",
      "num_of_lidarscans:  240\n",
      "LidarScans_angles:  (240,)\n"
     ]
    }
   ],
   "source": [
    "scans_OBJ = load_scans()\n",
    "scans_OBJ.load_ranges('data\\\\LidarScans_ranges.txt')\n",
    "scans_OBJ.load_angles('data\\\\LidarScans_angles.txt')\n",
    "\n",
    "trajectory_OBJ = robot_trajectory()\n",
    "trajectory_OBJ.load_trajectory('data\\\\Trajectory.txt')\n",
    "\n",
    "print('Trajectory: ',trajectory_OBJ.trajectory.shape)\n",
    "print('traj_len: ',trajectory_OBJ.trajectory_length)\n",
    "print('traj_dim: ',trajectory_OBJ.trajectory_dimension,'\\n')\n",
    "\n",
    "print('LidarScans: ',scans_OBJ.LidarScan_ranges.shape)\n",
    "print('num_of_lidarscans: ',scans_OBJ.num_of_LidarScans)\n",
    "print('LidarScans_angles: ',scans_OBJ.LidarScan_angles.shape)"
   ]
  },
  {
   "cell_type": "code",
   "execution_count": 5,
   "metadata": {
    "collapsed": true
   },
   "outputs": [],
   "source": [
    "scans_OBJ = load_scans()\n",
    "scans_OBJ.load_ranges('data\\\\LidarScans_ranges.txt')\n",
    "scans_OBJ.load_angles('data\\\\LidarScans_angles.txt')\n",
    "read = np.transpose(cord_trans.ploar_to_cartesian_2D(scans_OBJ.LidarScan_angles,scans_OBJ.LidarScan_ranges[1]))\n",
    "reference = np.transpose(cord_trans.ploar_to_cartesian_2D(scans_OBJ.LidarScan_angles,scans_OBJ.LidarScan_ranges[0]))"
   ]
  },
  {
   "cell_type": "markdown",
   "metadata": {},
   "source": [
    "# XXXXXXXXXXXXXXXXXXXXXXXXXXXXXXXXX"
   ]
  },
  {
   "cell_type": "code",
   "execution_count": 6,
   "metadata": {
    "collapsed": true
   },
   "outputs": [],
   "source": [
    "def vector_to_homogen(vector): # [ x y theta]\n",
    "    ct = np.cos(vector[2]) \n",
    "    st =np.sin(vector[2])\n",
    "    tx, ty = vector[0], vector[2]\n",
    "    vector_homogen = np.array([[ ct ,-st , tx ],\n",
    "                               [ st , ct , ty ],\n",
    "                               [ 0  , 0  , 1  ]])\n",
    "    return vector_homogen"
   ]
  },
  {
   "cell_type": "code",
   "execution_count": 7,
   "metadata": {
    "collapsed": true
   },
   "outputs": [],
   "source": [
    "def homogen_to_vector(vector_homogen):\n",
    "    tx, ty = vector_homogen[0,2], vector_homogen[1,2]\n",
    "    theta = atan2(vector_homogen(2,1), vector_homogen(1,1))\n",
    "    vector = [ tx , ty , theta ]\n",
    "    return vector"
   ]
  },
  {
   "cell_type": "code",
   "execution_count": 8,
   "metadata": {
    "collapsed": true
   },
   "outputs": [],
   "source": [
    "def vector_to_homogen_jac(vector): # [ x y theta]\n",
    "    ct = np.cos(vector[2]) \n",
    "    st =np.sin(vector[2])\n",
    "    vector_homogen = np.array([[ ct ,-st , 0 ],\n",
    "                               [ st , ct , 0 ],\n",
    "                               [ 0  , 0  , 1 ]])\n",
    "    return vector_homogen"
   ]
  },
  {
   "cell_type": "code",
   "execution_count": 9,
   "metadata": {
    "collapsed": true
   },
   "outputs": [],
   "source": [
    "class Node():\n",
    "    \n",
    "    def __init__(self):\n",
    "        self.nid = 0\n",
    "        sel.pose = np.zeros([3,1])\n",
    "        self.scan = np.zeros([240,2])"
   ]
  },
  {
   "cell_type": "code",
   "execution_count": 10,
   "metadata": {
    "collapsed": true
   },
   "outputs": [],
   "source": [
    "class Edge():\n",
    "\n",
    "    def __init__(self):\n",
    "        self.eid = 0\n",
    "        self.error = np.zeros([3, 1])\n",
    "        self.information_matrix = np.zeros([3, 3])\n",
    "        self.nid = np.zeros([1,2])\n",
    "        self.observation = np.zeros([3,1])"
   ]
  },
  {
   "cell_type": "markdown",
   "metadata": {},
   "source": [
    "        self.e = np.zeros((3, 1))\n",
    "        self.omega = np.zeros((3, 3))\n",
    "        self.d1 = 0.0\n",
    "        self.d2 = 0.0\n",
    "        self.yaw1 = 0.0\n",
    "        self.yaw2 = 0.0\n",
    "        self.angle1 = 0.0\n",
    "        self.angle2 = 0.0\n",
    "        self.id1 = 0\n",
    "        self.id2 = 0"
   ]
  },
  {
   "cell_type": "code",
   "execution_count": 11,
   "metadata": {
    "collapsed": true
   },
   "outputs": [],
   "source": [
    "def covariance_matrix(x_i,x_j):\n",
    "       \n",
    "    cov_x_i = np.cov(x_i.scans)\n",
    "    cov_x_j = np.cov(x_j.scans)\n",
    "    \n",
    "    covariance_ij = cov_x_i + cov_x_j\n",
    "    \n",
    "    return covariance_ij"
   ]
  },
  {
   "cell_type": "code",
   "execution_count": 12,
   "metadata": {
    "collapsed": true
   },
   "outputs": [],
   "source": [
    "def update_edge(edge,nodes):\n",
    "    \n",
    "    x_i = Node()\n",
    "    x_j = Node()\n",
    "    \n",
    "    x_i = nodes[edge.nid[0]]\n",
    "    homogen_x_i = vector_to_homogen(x_i)\n",
    "    \n",
    "    x_j = nodes[edge.nid[1]]\n",
    "    homogen_x_j = vector_to_homogen(x_j)\n",
    "    \n",
    "    z_ij = edge.observation\n",
    "    homogen_z_ij = vector_to_homogen(z_ij)\n",
    "    \n",
    "    sensor_edge = np.linalg.inv(homogen_x_i)*homogen_x_j\n",
    "    z_ji = np.linalg.inv(homogen_z_ij)\n",
    "    \n",
    "    homogen_error = z_ji*sensor_edge\n",
    "    error = homogen_to_vector(homogen_error)\n",
    "    \n",
    "    edge.error = error\n",
    "    \n",
    "    updated_covariance = edge_covariance_matrix(edge,x_i,x_j)\n",
    "    information_matrix = np.linalg.inv(updated_covariance)\n",
    "    \n",
    "    edge.information_matrix = information_matrix\n",
    "    \n",
    "    return edge"
   ]
  },
  {
   "cell_type": "code",
   "execution_count": 13,
   "metadata": {
    "collapsed": true
   },
   "outputs": [],
   "source": [
    "def calc_jacobian(edge,nodes):\n",
    "    \n",
    "    x_i = Node()\n",
    "    x_j = Node()\n",
    "    \n",
    "    x_i = nodes[edge.nid[0]]    \n",
    "    x_j = nodes[edge.nid[1]]\n",
    "    \n",
    "    theta_i = x_i[2]\n",
    "    tx_i, ty_i = x_i[:1,0]\n",
    "    tx_j, ty_j = x_j[:1,0]\n",
    "    \n",
    "    dx_ij, dy_ij = tx_i - tx_j, ty_i - ty_j\n",
    "    dt_ij = [dx_ij, dy_ij]\n",
    "\n",
    "    si = sin(theta_i);\n",
    "    ci = cos(theta_i);\n",
    "\n",
    "    A = np.array([[-ci, -si, [-si,  ci]*dt_ij], \n",
    "                  [ si, -ci, [-ci, -si]*dt_ij], \n",
    "                  [ 0,    0,               -1]])\n",
    "    \n",
    "    B =np.array([[ ci, si, 0], \n",
    "                 [-si, ci, 0], \n",
    "                 [  0,  0, 1]])\n",
    "    \n",
    "    return A, B"
   ]
  },
  {
   "cell_type": "markdown",
   "metadata": {},
   "source": [
    "ci = cos()\n",
    "si = sin()\n",
    "cj = cos()\n",
    "sj = sin()\n",
    "cz = cos()\n",
    "sz = sin() \n",
    "\n",
    "txi = c\n",
    "tyi = d\n",
    "txj = e\n",
    "tyj = f\n",
    "txz = a\n",
    "tyz = b\n",
    "\n",
    "https://www.symbolab.com/solver/step-by-step/%5Cleft(%5Cbegin%7Bpmatrix%7Dcosz%26-sinz%26a%5C%5C%20%20%20%20%20%20sinz%20%26cosz%26b%5C%5C%20%20%20%20%20%200%20%260%261%5Cend%7Bpmatrix%7D%5E%7B-1%7D%5Cleft(%5Cbegin%7Bpmatrix%7Dcosi%26-sini%26c%5C%5C%20%20%20%20%20%20sini%26cosi%26d%5C%5C%20%20%20%20%20%200%260%261%5Cend%7Bpmatrix%7D%5E%7B-1%7D%5Cbegin%7Bpmatrix%7Dcosj%26-sinj%26e%5C%5C%20%20%20%20%20sinj%26cosj%26f%5C%5C%20%20%20%20%200%260%261%5Cend%7Bpmatrix%7D%5Cright)%5Cright)\n",
    "\n",
    "\\left(\\begin{pmatrix}cosz&-sinz&a\\\\ \\:\\:\\:\\:\\:\\:sinz\\:&cosz&b\\\\ \\:\\:\\:\\:\\:\\:0\\:&0&1\\end{pmatrix}^{-1}\\left(\\begin{pmatrix}cosi&-sini&c\\\\ \\:\\:\\:\\:\\:\\:sini&cosi&d\\\\ \\:\\:\\:\\:\\:\\:0&0&1\\end{pmatrix}^{-1}\\begin{pmatrix}cosj&-sinj&e\\\\ \\:\\:\\:\\:\\:sinj&cosj&f\\\\ \\:\\:\\:\\:\\:0&0&1\\end{pmatrix}\\right)\\right)\n",
    "\n",
    "txj(ci*cz - si*sz)+tyj(si*cz + ci*sz)-cz*()\n",
    "\n",
    "normalizer = (-ci**2-si**2)*(-cz**2-sz**2)\n",
    "error = np.array([[ cj*( ci*cz - si*sz) + sj*(si*cz + ci*sz), cj*(si*cz + ci*sz) - sj*( ci*cz - si*sz), 0],\n",
    "                  [ cj*(-ci*sz - si*cz) + sj*(ci*cz - si*sz), cj*(ci*cz - si*sz) - sj*(-ci*sz - si*cz), 0],\n",
    "                  [ 0                                       , 0                                       , 1]])\n",
    "\n",
    "error2 = np.array([[ cj*( ci*cz - si*sz) + sj*(si*cz + ci*sz), cj*(si*cz + ci*sz) - sj*( ci*cz - si*sz), 0],\n",
    "                  [ cj*(-ci*sz - si*cz) + sj*(ci*cz - si*sz), cj*(ci*cz - si*sz) - sj*(-ci*sz - si*cz), 0],\n",
    "                  [ 0                                       , 0                                       , 1]]"
   ]
  },
  {
   "cell_type": "code",
   "execution_count": 14,
   "metadata": {
    "collapsed": true
   },
   "outputs": [],
   "source": [
    "def update_H_and_b(H, b, edge):\n",
    "\n",
    "    A, B = calc_jacobian(edge)\n",
    "\n",
    "    idi = edge.nid[0] * STATE_SIZE\n",
    "    idj = edge.nid[0] * STATE_SIZE\n",
    "\n",
    "    H[id1:id1 + STATE_SIZE, id1:id1 + STATE_SIZE] += A.T * edge.information_matrix * A\n",
    "    H[id1:id1 + STATE_SIZE, id2:id2 + STATE_SIZE] += A.T * edge.information_matrix * B\n",
    "    H[id2:id2 + STATE_SIZE, id1:id1 + STATE_SIZE] += B.T * edge.information_matrix * A\n",
    "    H[id2:id2 + STATE_SIZE, id2:id2 + STATE_SIZE] += B.T * edge.information_matrix * B\n",
    "\n",
    "    b[id1:id1 + STATE_SIZE, 0] += (A.T * edge.information_matrix * edge.error)\n",
    "    b[id2:id2 + STATE_SIZE, 0] += (B.T * edge.information_matrix * edge.error)\n",
    "\n",
    "    return H, b"
   ]
  },
  {
   "cell_type": "markdown",
   "metadata": {},
   "source": [
    "def calc_edges(xlist, zlist):\n",
    "\n",
    "    edges = []\n",
    "    cost = 0.0\n",
    "    zids = list(itertools.combinations(range(len(zlist)), 2))\n",
    "    # combinations(range(4), 3) --> 012 013 023 123\n",
    "\n",
    "    for (t1, t2) in zids:\n",
    "        x1, y1, yaw1 = xlist[0, t1], xlist[1, t1], xlist[2, t1]\n",
    "        x2, y2, yaw2 = xlist[0, t2], xlist[1, t2], xlist[2, t2]\n",
    "        # it seems like the values of the two points are stacked vertically\n",
    "\n",
    "        if zlist[t1] is None or zlist[t2] is None:\n",
    "            continue  # No observation Skips the current itteration of the\n",
    "            # for loop\n",
    "\n",
    "        for iz1 in range(len(zlist[t1][:, 0])):\n",
    "            for iz2 in range(len(zlist[t2][:, 0])):\n",
    "                if zlist[t1][iz1, 3] == zlist[t2][iz2, 3]:\n",
    "                    d1 = zlist[t1][iz1, 0]\n",
    "                    angle1, phi1 = zlist[t1][iz1, 1], zlist[t1][iz1, 2]\n",
    "                    d2 = zlist[t2][iz2, 0]\n",
    "                    angle2, phi2 = zlist[t2][iz2, 1], zlist[t2][iz2, 2]\n",
    "                    # extracting the the x,y,theta from the two points with\n",
    "                    # an edge between them. Also it \n",
    "                    edge = calc_edge(x1, y1, yaw1, x2, y2, yaw2, d1,\n",
    "                                     angle1, phi1, d2, angle2, phi2, t1, t2)\n",
    "\n",
    "                    edges.append(edge)\n",
    "                    cost += (edge.e.T * edge.omega * edge.e)[0, 0]\n",
    "\n",
    "    print(\"cost:\", cost, \",nedge:\", len(edges))\n",
    "    return edges"
   ]
  },
  {
   "cell_type": "markdown",
   "metadata": {
    "collapsed": true
   },
   "source": [
    "def graph_based_slam(x_init, hz):\n",
    "    print(\"start graph based slam\")\n",
    "\n",
    "    zlist = copy.deepcopy(hz)\n",
    "    zlist.insert(1, zlist[0])\n",
    "\n",
    "    x_opt = copy.deepcopy(x_init)\n",
    "    nt = x_opt.shape[1]\n",
    "    n = nt * STATE_SIZE\n",
    "\n",
    "    for itr in range(MAX_ITR):\n",
    "        edges = calc_edges(x_opt, zlist)#?\n",
    "\n",
    "        H = np.matrix(np.zeros((n, n)))\n",
    "        b = np.matrix(np.zeros((n, 1)))\n",
    "\n",
    "        for edge in edges:\n",
    "            H, b = update_H_and_b(H, b, edge)\n",
    "\n",
    "        H[0:STATE_SIZE, 0:STATE_SIZE] += np.identity(STATE_SIZE)\n",
    "\n",
    "        dx = - np.linalg.inv(H).dot(b)#? does this work\n",
    "\n",
    "        for i in range(nt):\n",
    "            x_opt[0:3, i] += dx[i * 3:i * 3 + 3, 0]#? could do this better\n",
    "\n",
    "        diff = dx.T.dot(dx)\n",
    "        print(\"iteration: %d, diff: %f\" % (itr + 1, diff))\n",
    "        if diff < 1.0e-5:\n",
    "            break\n",
    "\n",
    "    return x_opt"
   ]
  },
  {
   "cell_type": "markdown",
   "metadata": {},
   "source": [
    "I dont need the folling function"
   ]
  },
  {
   "cell_type": "markdown",
   "metadata": {},
   "source": [
    "def observation(xTrue, xd, u, RFID):\n",
    "    #receives the true path of the robot, the dead reckoning estimate of the path.\n",
    "    #The control input of the robot, the positioning of the landmarks within the environment\n",
    "\n",
    "    xTrue = motion_model(xTrue, u)\n",
    "    #simulates the motion of the robot, adjust the current position by the control input\n",
    "\n",
    "    # add noise to gps x-y\n",
    "    z = np.matrix(np.zeros((0, 4)))\n",
    "\n",
    "    for i in range(len(RFID[:, 0])): #iterates across of all the landmarks\n",
    "\n",
    "        dx = RFID[i, 0] - xTrue[0, 0]\n",
    "        dy = RFID[i, 1] - xTrue[1, 0]\n",
    "        # Determines the x,y difference between the current robot position and every \n",
    "        # landmark\n",
    "        d = math.sqrt(dx**2 + dy**2)\n",
    "        # calculates the distance betweent the curent robot position and every \n",
    "        # landmark\n",
    "        angle = pi_2_pi(math.atan2(dy, dx)) - xTrue[2, 0]\n",
    "        # calculate the angle difference between the orientation angle of the robot \n",
    "        # and the position of the landmark\n",
    "        phi = pi_2_pi(math.atan2(dy, dx))\n",
    "        # calculate the angle between the x-axis, origin at the robots center mand \n",
    "        # the position of the landmark from the robot\n",
    "        if d <= MAX_RANGE:\n",
    "            dn = d + np.random.randn() * Qsim[0, 0]  # add noise\n",
    "            anglen = angle + np.random.randn() * Qsim[1, 1]  # add noise\n",
    "            zi = np.matrix([dn, anglen, phi, i])\n",
    "            # this stores the distance between, angle between, angle from x-axis and the \n",
    "            # landmark number of every landmark from the current position of the robot\n",
    "            z = np.vstack((z, zi))\n",
    "\n",
    "    # add noise to input\n",
    "    ud1 = u[0, 0] + np.random.randn() * Rsim[0, 0]\n",
    "    ud2 = u[1, 0] + np.random.randn() * Rsim[1, 1]\n",
    "    ud = np.matrix([ud1, ud2]).T\n",
    "    #adds noise to the control input\n",
    "\n",
    "    xd = motion_model(xd, ud)\n",
    "    # returns the true position of the robot, the matrix of distances/angles of every landmark from\n",
    "    # the robot, the dead reckoning position of the robot, the control input with noise\n",
    "    return xTrue, z, xd, ud\n"
   ]
  },
  {
   "cell_type": "markdown",
   "metadata": {},
   "source": [
    "def motion_model(x, u):\n",
    "    #receives a position and control input\n",
    "\n",
    "    F = np.matrix([[1.0, 0, 0],\n",
    "                   [0, 1.0, 0],\n",
    "                   [0, 0, 1.0]])\n",
    "\n",
    "    B = np.matrix([[DT * math.cos(x[2, 0]), 0],\n",
    "                   [DT * math.sin(x[2, 0]), 0],\n",
    "                   [0.0, DT]])\n",
    "\n",
    "    x = F * x + B * u\n",
    "    #transforms the position by the control input\n",
    "    #simulation a control action being taken\n",
    "    \n",
    "    return x"
   ]
  },
  {
   "cell_type": "markdown",
   "metadata": {},
   "source": [
    "The Loop"
   ]
  },
  {
   "cell_type": "markdown",
   "metadata": {},
   "source": [
    "print(\" start!!\")\n",
    "\n",
    "time = 0.0\n",
    "\n",
    "# RFID positions [x, y, theta] These are the landmarks in the environment stcaked in to a Nx3 matrix\n",
    "RFID = np.array([[10.0, -2.0, 0.0],\n",
    "                 [15.0, 10.0, 0.0],\n",
    "                 [3.0, 15.0, 0.0],\n",
    "                 [-5.0, 20.0, 0.0],\n",
    "                 [-5.0, 5.0, 0.0]\n",
    "                 ])\n",
    "#I will not be able to use these landmarks.\n",
    "\n",
    "xTrue = np.matrix(np.zeros((STATE_SIZE, 1))) \n",
    "# State Vector [x y theta v]\n",
    "\n",
    "xDR = np.matrix(np.zeros((STATE_SIZE, 1)))  \n",
    "# Dead reckoning\n",
    "\n",
    "# history of trajectory\n",
    "hxTrue = xTrue\n",
    "hxDR = xTrue\n",
    "hz = []\n",
    "dtime = 0.0\n",
    "\n",
    "while SIM_TIME >= time: # while we have not reached the end of the simulation\n",
    "    time += DT\n",
    "    dtime += DT\n",
    "    u = calc_input()\n",
    "    # increment the time step and simulate the robot control input\n",
    "\n",
    "    xTrue, z, xDR, ud = observation(xTrue, xDR, u, RFID)\n",
    "\n",
    "    hxDR = np.hstack((hxDR, xDR))\n",
    "    hxTrue = np.hstack((hxTrue, xTrue))\n",
    "    hz.append(z)\n",
    "\n",
    "    if dtime >= show_graph_dtime:\n",
    "        x_opt = graph_based_slam(hxDR, hz)\n",
    "        dtime = 0.0\n",
    "\n",
    "        if show_animation:\n",
    "            plt.cla()\n",
    "\n",
    "            plt.plot(RFID[:, 0], RFID[:, 1], \"*k\")\n",
    "\n",
    "            plt.plot(np.array(hxTrue[0, :]).flatten(),\n",
    "                     np.array(hxTrue[1, :]).flatten(), \"-b\")\n",
    "            plt.plot(np.array(hxDR[0, :]).flatten(),\n",
    "                     np.array(hxDR[1, :]).flatten(), \"-k\")\n",
    "            plt.plot(np.array(x_opt[0, :]).flatten(),\n",
    "                     np.array(x_opt[1, :]).flatten(), \"-r\")\n",
    "            plt.axis(\"equal\")\n",
    "            plt.grid(True)\n",
    "            plt.title(\"Time\" + str(time)[0:5])\n",
    "            plt.pause(1.0)"
   ]
  },
  {
   "cell_type": "code",
   "execution_count": null,
   "metadata": {
    "collapsed": true
   },
   "outputs": [],
   "source": []
  }
 ],
 "metadata": {
  "kernelspec": {
   "display_name": "Python 3",
   "language": "python",
   "name": "python3"
  },
  "language_info": {
   "codemirror_mode": {
    "name": "ipython",
    "version": 3
   },
   "file_extension": ".py",
   "mimetype": "text/x-python",
   "name": "python",
   "nbconvert_exporter": "python",
   "pygments_lexer": "ipython3",
   "version": "3.6.3"
  }
 },
 "nbformat": 4,
 "nbformat_minor": 2
}
