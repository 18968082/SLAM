{
 "cells": [
  {
   "cell_type": "code",
   "execution_count": 1,
   "metadata": {
    "collapsed": true
   },
   "outputs": [],
   "source": [
    "import numpy as np\n",
    "from matplotlib import pyplot as plt\n",
    "%matplotlib inline\n",
    "\n",
    "from sklearn.decomposition import PCA\n",
    "from sklearn.neighbors import NearestNeighbors\n",
    "from scipy import linalg\n",
    "from scipy.optimize import root\n",
    "\n",
    "import sys\n",
    "sys.path.insert(0, 'code')\n",
    "\n",
    "from robot_data import Load_Lidar_Scans as load_scans\n",
    "from robot_data import Lidar_Scan\n",
    "from robot_data import robot_trajectory\n",
    "from datafilters import filters\n",
    "import coordinate_transforms as cord_trans\n",
    "import visualizer\n",
    "import ICP"
   ]
  },
  {
   "cell_type": "markdown",
   "metadata": {},
   "source": [
    "# All the variables that have been created to retrieve the data:"
   ]
  },
  {
   "cell_type": "code",
   "execution_count": 2,
   "metadata": {
    "collapsed": false,
    "scrolled": true
   },
   "outputs": [
    {
     "name": "stdout",
     "output_type": "stream",
     "text": [
      "Trajectory:  (52, 3)\n",
      "traj_len:  52\n",
      "traj_dim:  2 \n",
      "\n",
      "LidarScans:  (51, 240)\n",
      "num_of_lidarscans:  240\n",
      "LidarScans_angles:  (240,)\n"
     ]
    }
   ],
   "source": [
    "scans_OBJ = load_scans()\n",
    "scans_OBJ.load_ranges('data\\\\LidarScans_ranges.txt')\n",
    "scans_OBJ.load_angles('data\\\\LidarScans_angles.txt')\n",
    "\n",
    "trajectory_OBJ = robot_trajectory()\n",
    "trajectory_OBJ.load_trajectory('data\\\\Trajectory.txt')\n",
    "\n",
    "print('Trajectory: ',trajectory_OBJ.trajectory.shape)\n",
    "print('traj_len: ',trajectory_OBJ.trajectory_length)\n",
    "print('traj_dim: ',trajectory_OBJ.trajectory_dimension,'\\n')\n",
    "\n",
    "print('LidarScans: ',scans_OBJ.LidarScan_ranges.shape)\n",
    "print('num_of_lidarscans: ',scans_OBJ.num_of_LidarScans)\n",
    "print('LidarScans_angles: ',scans_OBJ.LidarScan_angles.shape)"
   ]
  },
  {
   "cell_type": "markdown",
   "metadata": {},
   "source": [
    "# XXXXXXXXXXXXXXXXXXXXXXXXXXXXXXXXX"
   ]
  },
  {
   "cell_type": "code",
   "execution_count": 3,
   "metadata": {
    "collapsed": true
   },
   "outputs": [],
   "source": [
    "\"\"\"\n",
    "Graph based SLAM example\n",
    "author: Atsushi Sakai (@Atsushi_twi)\n",
    "Ref\n",
    "[A Tutorial on Graph-Based SLAM](http://www2.informatik.uni-freiburg.de/~stachnis/pdf/grisetti10titsmag.pdf)\n",
    "\"\"\"\n",
    "\n",
    "import numpy as np\n",
    "import math\n",
    "import copy\n",
    "import itertools\n",
    "import matplotlib.pyplot as plt"
   ]
  },
  {
   "cell_type": "code",
   "execution_count": 4,
   "metadata": {
    "collapsed": true
   },
   "outputs": [],
   "source": [
    "#  Simulation parameter\n",
    "Qsim = np.diag([0.2, np.deg2rad(1.0)])**2\n",
    "Rsim = np.diag([0.1, np.deg2rad(10.0)])**2\n",
    "\n",
    "DT = 2.0  # time tick [s]\n",
    "SIM_TIME = 100.0  # simulation time [s]\n",
    "MAX_RANGE = 30.0  # maximum observation range\n",
    "STATE_SIZE = 3  # State size [x,y,yaw]\n",
    "\n",
    "# Covariance parameter of Graph Based SLAM\n",
    "C_SIGMA1 = 0.1\n",
    "C_SIGMA2 = 0.1\n",
    "C_SIGMA3 = np.deg2rad(1.0)\n",
    "\n",
    "MAX_ITR = 20  # Maximum iteration\n",
    "\n",
    "show_graph_dtime = 20.0  # [s]\n",
    "show_animation = True"
   ]
  },
  {
   "cell_type": "code",
   "execution_count": 5,
   "metadata": {
    "collapsed": true
   },
   "outputs": [],
   "source": [
    "class Edge():\n",
    "\n",
    "    def __init__(self):\n",
    "        self.e = np.zeros((3, 1))\n",
    "        self.omega = np.zeros((3, 3))  # information matrix\n",
    "        self.d1 = 0.0\n",
    "        self.d2 = 0.0\n",
    "        self.yaw1 = 0.0\n",
    "        self.yaw2 = 0.0\n",
    "        self.angle1 = 0.0\n",
    "        self.angle2 = 0.0\n",
    "        self.id1 = 0\n",
    "        self.id2 = 0"
   ]
  },
  {
   "cell_type": "code",
   "execution_count": 6,
   "metadata": {
    "collapsed": true
   },
   "outputs": [],
   "source": [
    "def cal_observation_sigma(d):\n",
    "\n",
    "    sigma = np.zeros((3, 3))\n",
    "    sigma[0, 0] = C_SIGMA1**2\n",
    "    sigma[1, 1] = C_SIGMA2**2\n",
    "    sigma[2, 2] = C_SIGMA3**2\n",
    "\n",
    "    return sigma"
   ]
  },
  {
   "cell_type": "code",
   "execution_count": 7,
   "metadata": {
    "collapsed": true
   },
   "outputs": [],
   "source": [
    "def calc_rotational_matrix(angle):\n",
    "\n",
    "    Rt = np.matrix([[math.cos(angle), -math.sin(angle), 0],\n",
    "                    [math.sin(angle), math.cos(angle), 0],\n",
    "                    [0, 0, 1.0]])\n",
    "    return Rt"
   ]
  },
  {
   "cell_type": "code",
   "execution_count": 8,
   "metadata": {
    "collapsed": true
   },
   "outputs": [],
   "source": [
    "def calc_edge(x1, y1, yaw1, x2, y2, yaw2, d1,angle1, phi1, d2, angle2, phi2, t1, t2):\n",
    "    edge = Edge()\n",
    "\n",
    "    tangle1 = pi_2_pi(yaw1 + angle1)\n",
    "    tangle2 = pi_2_pi(yaw2 + angle2)\n",
    "    tmp1 = d1 * math.cos(tangle1)\n",
    "    tmp2 = d2 * math.cos(tangle2)\n",
    "    tmp3 = d1 * math.sin(tangle1)\n",
    "    tmp4 = d2 * math.sin(tangle2)\n",
    "\n",
    "    edge.e[0, 0] = x2 - x1 - tmp1 + tmp2\n",
    "    edge.e[1, 0] = y2 - y1 - tmp3 + tmp4\n",
    "    hyaw = phi1 - phi2 + angle1 - angle2\n",
    "    edge.e[2, 0] = pi_2_pi(yaw2 - yaw1 - hyaw)\n",
    "\n",
    "    Rt1 = calc_rotational_matrix(tangle1)\n",
    "    Rt2 = calc_rotational_matrix(tangle2)\n",
    "\n",
    "    sig1 = cal_observation_sigma(d1)\n",
    "    sig2 = cal_observation_sigma(d2)\n",
    "\n",
    "    edge.omega = np.linalg.inv(Rt1 * sig1 * Rt1.T + Rt2 * sig2 * Rt2.T)\n",
    "\n",
    "    edge.d1, edge.d2 = d1, d2\n",
    "    edge.yaw1, edge.yaw2 = yaw1, yaw2\n",
    "    edge.angle1, edge.angle2 = angle1, angle2\n",
    "    edge.id1, edge.id2 = t1, t2\n",
    "\n",
    "    return edge"
   ]
  },
  {
   "cell_type": "code",
   "execution_count": 9,
   "metadata": {
    "collapsed": true
   },
   "outputs": [],
   "source": [
    "def calc_edges(xlist, zlist):\n",
    "\n",
    "    edges = []\n",
    "    cost = 0.0\n",
    "    zids = list(itertools.combinations(range(len(zlist)), 2))\n",
    "\n",
    "    for (t1, t2) in zids:\n",
    "        x1, y1, yaw1 = xlist[0, t1], xlist[1, t1], xlist[2, t1]\n",
    "        x2, y2, yaw2 = xlist[0, t2], xlist[1, t2], xlist[2, t2]\n",
    "\n",
    "        if zlist[t1] is None or zlist[t2] is None:\n",
    "            continue  # No observation\n",
    "\n",
    "        for iz1 in range(len(zlist[t1][:, 0])):\n",
    "            for iz2 in range(len(zlist[t2][:, 0])):\n",
    "                if zlist[t1][iz1, 3] == zlist[t2][iz2, 3]:\n",
    "                    d1 = zlist[t1][iz1, 0]\n",
    "                    angle1, phi1 = zlist[t1][iz1, 1], zlist[t1][iz1, 2]\n",
    "                    d2 = zlist[t2][iz2, 0]\n",
    "                    angle2, phi2 = zlist[t2][iz2, 1], zlist[t2][iz2, 2]\n",
    "\n",
    "                    edge = calc_edge(x1, y1, yaw1, x2, y2, yaw2, d1,\n",
    "                                     angle1, phi1, d2, angle2, phi2, t1, t2)\n",
    "\n",
    "                    edges.append(edge)\n",
    "                    cost += (edge.e.T * edge.omega * edge.e)[0, 0]\n",
    "\n",
    "    print(\"cost:\", cost, \",nedge:\", len(edges))\n",
    "    return edges"
   ]
  },
  {
   "cell_type": "code",
   "execution_count": 10,
   "metadata": {
    "collapsed": true
   },
   "outputs": [],
   "source": [
    "def calc_jacobian(edge):\n",
    "    t1 = edge.yaw1 + edge.angle1\n",
    "    A = np.matrix([[-1.0, 0, edge.d1 * math.sin(t1)],\n",
    "                   [0, -1.0, -edge.d1 * math.cos(t1)],\n",
    "                   [0, 0, -1.0]])\n",
    "\n",
    "    t2 = edge.yaw2 + edge.angle2\n",
    "    B = np.matrix([[1.0, 0, -edge.d2 * math.sin(t2)],\n",
    "                   [0, 1.0, edge.d2 * math.cos(t2)],\n",
    "                   [0, 0, 1.0]])\n",
    "\n",
    "    return A, B"
   ]
  },
  {
   "cell_type": "code",
   "execution_count": 11,
   "metadata": {
    "collapsed": true
   },
   "outputs": [],
   "source": [
    "def fill_H_and_b(H, b, edge):\n",
    "\n",
    "    A, B = calc_jacobian(edge)\n",
    "\n",
    "    id1 = edge.id1 * STATE_SIZE\n",
    "    id2 = edge.id2 * STATE_SIZE\n",
    "\n",
    "    H[id1:id1 + STATE_SIZE, id1:id1 + STATE_SIZE] += A.T * edge.omega * A\n",
    "    H[id1:id1 + STATE_SIZE, id2:id2 + STATE_SIZE] += A.T * edge.omega * B\n",
    "    H[id2:id2 + STATE_SIZE, id1:id1 + STATE_SIZE] += B.T * edge.omega * A\n",
    "    H[id2:id2 + STATE_SIZE, id2:id2 + STATE_SIZE] += B.T * edge.omega * B\n",
    "\n",
    "    b[id1:id1 + STATE_SIZE, 0] += (A.T * edge.omega * edge.e)\n",
    "    b[id2:id2 + STATE_SIZE, 0] += (B.T * edge.omega * edge.e)\n",
    "\n",
    "    return H, b"
   ]
  },
  {
   "cell_type": "code",
   "execution_count": 12,
   "metadata": {
    "collapsed": true
   },
   "outputs": [],
   "source": [
    "def graph_based_slam(x_init, hz):\n",
    "    print(\"start graph based slam\")\n",
    "\n",
    "    zlist = copy.deepcopy(hz)\n",
    "    zlist.insert(1, zlist[0])\n",
    "\n",
    "    x_opt = copy.deepcopy(x_init)\n",
    "    nt = x_opt.shape[1]\n",
    "    n = nt * STATE_SIZE\n",
    "\n",
    "    for itr in range(MAX_ITR):\n",
    "        edges = calc_edges(x_opt, zlist)\n",
    "\n",
    "        H = np.matrix(np.zeros((n, n)))\n",
    "        b = np.matrix(np.zeros((n, 1)))\n",
    "\n",
    "        for edge in edges:\n",
    "            H, b = fill_H_and_b(H, b, edge)\n",
    "\n",
    "        # to fix origin\n",
    "        H[0:STATE_SIZE, 0:STATE_SIZE] += np.identity(STATE_SIZE)\n",
    "\n",
    "        dx = - np.linalg.inv(H).dot(b)\n",
    "\n",
    "        for i in range(nt):\n",
    "            x_opt[0:3, i] += dx[i * 3:i * 3 + 3, 0]\n",
    "\n",
    "        diff = dx.T.dot(dx)\n",
    "        print(\"iteration: %d, diff: %f\" % (itr + 1, diff))\n",
    "        if diff < 1.0e-5:\n",
    "            break\n",
    "\n",
    "    return x_opt"
   ]
  },
  {
   "cell_type": "code",
   "execution_count": 13,
   "metadata": {
    "collapsed": true
   },
   "outputs": [],
   "source": [
    "def calc_input():\n",
    "    v = 1.0  # [m/s]\n",
    "    yawrate = 0.1  # [rad/s]\n",
    "    u = np.matrix([v, yawrate]).T\n",
    "    return u"
   ]
  },
  {
   "cell_type": "code",
   "execution_count": 14,
   "metadata": {
    "collapsed": true
   },
   "outputs": [],
   "source": [
    "def observation(xTrue, xd, u, RFID):\n",
    "\n",
    "    xTrue = motion_model(xTrue, u)\n",
    "\n",
    "    # add noise to gps x-y\n",
    "    z = np.matrix(np.zeros((0, 4)))\n",
    "\n",
    "    for i in range(len(RFID[:, 0])):\n",
    "\n",
    "        dx = RFID[i, 0] - xTrue[0, 0]\n",
    "        dy = RFID[i, 1] - xTrue[1, 0]\n",
    "        d = math.sqrt(dx**2 + dy**2)\n",
    "        angle = pi_2_pi(math.atan2(dy, dx)) - xTrue[2, 0]\n",
    "        phi = pi_2_pi(math.atan2(dy, dx))\n",
    "        if d <= MAX_RANGE:\n",
    "            dn = d + np.random.randn() * Qsim[0, 0]  # add noise\n",
    "            anglen = angle + np.random.randn() * Qsim[1, 1]  # add noise\n",
    "            zi = np.matrix([dn, anglen, phi, i])\n",
    "            z = np.vstack((z, zi))\n",
    "\n",
    "    # add noise to input\n",
    "    ud1 = u[0, 0] + np.random.randn() * Rsim[0, 0]\n",
    "    ud2 = u[1, 0] + np.random.randn() * Rsim[1, 1]\n",
    "    ud = np.matrix([ud1, ud2]).T\n",
    "\n",
    "    xd = motion_model(xd, ud)\n",
    "\n",
    "    return xTrue, z, xd, ud"
   ]
  },
  {
   "cell_type": "code",
   "execution_count": 15,
   "metadata": {
    "collapsed": true
   },
   "outputs": [],
   "source": [
    "def motion_model(x, u):\n",
    "\n",
    "    F = np.matrix([[1.0, 0, 0],\n",
    "                   [0, 1.0, 0],\n",
    "                   [0, 0, 1.0]])\n",
    "\n",
    "    B = np.matrix([[DT * math.cos(x[2, 0]), 0],\n",
    "                   [DT * math.sin(x[2, 0]), 0],\n",
    "                   [0.0, DT]])\n",
    "\n",
    "    x = F * x + B * u\n",
    "\n",
    "    return x"
   ]
  },
  {
   "cell_type": "code",
   "execution_count": 16,
   "metadata": {
    "collapsed": true
   },
   "outputs": [],
   "source": [
    "def pi_2_pi(angle):\n",
    "    return (angle + math.pi) % (2 * math.pi) - math.pi"
   ]
  },
  {
   "cell_type": "code",
   "execution_count": null,
   "metadata": {
    "collapsed": false
   },
   "outputs": [
    {
     "name": "stdout",
     "output_type": "stream",
     "text": [
      " start!!\n",
      "start graph based slam\n",
      "cost: 839529.245792 ,nedge: 275\n",
      "iteration: 1, diff: 28.912160\n",
      "cost: 770310.622442 ,nedge: 275\n",
      "iteration: 2, diff: 0.773513\n",
      "cost: 769973.358289 ,nedge: 275\n",
      "iteration: 3, diff: 0.000000\n",
      "start graph based slam\n",
      "cost: 4684015.67484 ,nedge: 1050\n",
      "iteration: 1, diff: 16.538568\n",
      "cost: 4513534.53673 ,nedge: 1050\n",
      "iteration: 2, diff: 1.615191\n",
      "cost: 4511026.67627 ,nedge: 1050\n",
      "iteration: 3, diff: 0.000062\n",
      "cost: 4511026.54766 ,nedge: 1050\n",
      "iteration: 4, diff: 0.000000\n",
      "start graph based slam\n",
      "cost: 11586721.4618 ,nedge: 2325\n",
      "iteration: 1, diff: 24.533434\n",
      "cost: 10952218.9467 ,nedge: 2325\n",
      "iteration: 2, diff: 2.107950\n",
      "cost: 10934742.7288 ,nedge: 2325\n",
      "iteration: 3, diff: 0.286982\n",
      "cost: 10932054.1121 ,nedge: 2325\n",
      "iteration: 4, diff: 0.000035\n",
      "cost: 10932053.8571 ,nedge: 2325\n",
      "iteration: 5, diff: 0.000000\n",
      "start graph based slam\n",
      "cost: 19944456.8644 ,nedge: 4100\n",
      "iteration: 1, diff: 42.037960\n",
      "cost: 18628633.2027 ,nedge: 4100\n",
      "iteration: 2, diff: 1.571866\n",
      "cost: 18612285.8625 ,nedge: 4100\n",
      "iteration: 3, diff: 0.011950\n",
      "cost: 18612148.872 ,nedge: 4100\n",
      "iteration: 4, diff: 0.000000\n",
      "start graph based slam\n",
      "cost: 32621020.0801 ,nedge: 6375\n",
      "iteration: 1, diff: 112.303502\n",
      "cost: 29700320.7662 ,nedge: 6375\n",
      "iteration: 2, diff: 5.063861\n",
      "cost: 29592991.4987 ,nedge: 6375\n",
      "iteration: 3, diff: 0.327620\n",
      "cost: 29581740.2058 ,nedge: 6375\n",
      "iteration: 4, diff: 0.036295\n",
      "cost: 29580980.7026 ,nedge: 6375\n",
      "iteration: 5, diff: 0.007516\n",
      "cost: 29580813.72 ,nedge: 6375\n",
      "iteration: 6, diff: 0.007908\n",
      "cost: 29580705.9154 ,nedge: 6375\n",
      "iteration: 7, diff: 0.000000\n"
     ]
    }
   ],
   "source": [
    "print(\" start!!\")\n",
    "\n",
    "time = 0.0\n",
    "\n",
    "# RFID positions [x, y, theta]\n",
    "RFID = np.array([[10.0, -2.0, 0.0],\n",
    "                 [15.0, 10.0, 0.0],\n",
    "                 [3.0, 15.0, 0.0],\n",
    "                 [-5.0, 20.0, 0.0],\n",
    "                 [-5.0, 5.0, 0.0]\n",
    "                 ])\n",
    "\n",
    "# State Vector [x y theta v]'\n",
    "xTrue = np.matrix(np.zeros((STATE_SIZE, 1)))\n",
    "xDR = np.matrix(np.zeros((STATE_SIZE, 1)))  # Dead reckoning\n",
    "\n",
    "# history\n",
    "hxTrue = xTrue\n",
    "hxDR = xTrue\n",
    "hz = []\n",
    "dtime = 0.0\n",
    "\n",
    "while SIM_TIME >= time:\n",
    "    time += DT\n",
    "    dtime += DT\n",
    "    u = calc_input()\n",
    "\n",
    "    xTrue, z, xDR, ud = observation(xTrue, xDR, u, RFID)\n",
    "\n",
    "    hxDR = np.hstack((hxDR, xDR))\n",
    "    hxTrue = np.hstack((hxTrue, xTrue))\n",
    "    hz.append(z)\n",
    "\n",
    "    if dtime >= show_graph_dtime:\n",
    "        x_opt = graph_based_slam(hxDR, hz)\n",
    "        dtime = 0.0\n",
    "\n",
    "        if show_animation:\n",
    "            plt.cla()\n",
    "\n",
    "            plt.plot(RFID[:, 0], RFID[:, 1], \"*k\")\n",
    "\n",
    "            plt.plot(np.array(hxTrue[0, :]).flatten(),\n",
    "                     np.array(hxTrue[1, :]).flatten(), \"-b\")\n",
    "            plt.plot(np.array(hxDR[0, :]).flatten(),\n",
    "                     np.array(hxDR[1, :]).flatten(), \"-k\")\n",
    "            plt.plot(np.array(x_opt[0, :]).flatten(),\n",
    "                     np.array(x_opt[1, :]).flatten(), \"-r\")\n",
    "            plt.axis(\"equal\")\n",
    "            plt.grid(True)\n",
    "            plt.title(\"Time\" + str(time)[0:5])\n",
    "            plt.pause(1.0)"
   ]
  },
  {
   "cell_type": "code",
   "execution_count": null,
   "metadata": {
    "collapsed": true
   },
   "outputs": [],
   "source": []
  }
 ],
 "metadata": {
  "kernelspec": {
   "display_name": "Python 3",
   "language": "python",
   "name": "python3"
  },
  "language_info": {
   "codemirror_mode": {
    "name": "ipython",
    "version": 3
   },
   "file_extension": ".py",
   "mimetype": "text/x-python",
   "name": "python",
   "nbconvert_exporter": "python",
   "pygments_lexer": "ipython3",
   "version": "3.4.4"
  }
 },
 "nbformat": 4,
 "nbformat_minor": 2
}
