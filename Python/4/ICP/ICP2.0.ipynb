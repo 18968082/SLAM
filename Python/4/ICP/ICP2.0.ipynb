{
 "cells": [
  {
   "cell_type": "code",
   "execution_count": 1,
   "metadata": {
    "collapsed": true
   },
   "outputs": [],
   "source": [
    "\"\"\"\n",
    "Iterative Closest Point (ICP) SLAM example\n",
    "author: Atsushi Sakai (@Atsushi_twi)\n",
    "https://github.com/AtsushiSakai/PythonRobotics\n",
    "\"\"\"\n",
    "\n",
    "import math\n",
    "import numpy as np\n",
    "import matplotlib.pyplot as plt"
   ]
  },
  {
   "cell_type": "code",
   "execution_count": 13,
   "metadata": {
    "collapsed": true
   },
   "outputs": [],
   "source": [
    "import sys\n",
    "sys.path.insert(0, 'code')\n",
    "from robot_data import Load_Lidar_Scans as load_scans\n",
    "%matplotlib inline\n",
    "scans_OBJ = load_scans()\n",
    "scans_OBJ.load_ranges('data\\\\LidarScans_ranges.txt')\n",
    "scans_OBJ.load_angles('data\\\\LidarScans_angles.txt')\n",
    "import coordinate_transforms as cord_trans\n",
    "read = np.transpose(cord_trans.ploar_to_cartesian_2D(scans_OBJ.LidarScan_angles,scans_OBJ.LidarScan_ranges[1]))\n",
    "reference = np.transpose(cord_trans.ploar_to_cartesian_2D(scans_OBJ.LidarScan_angles,scans_OBJ.LidarScan_ranges[0]))"
   ]
  },
  {
   "cell_type": "code",
   "execution_count": 9,
   "metadata": {
    "collapsed": true
   },
   "outputs": [],
   "source": [
    "#  ICP parameters\n",
    "EPS = 0.0001\n",
    "MAXITER = 100"
   ]
  },
  {
   "cell_type": "code",
   "execution_count": 17,
   "metadata": {
    "collapsed": true
   },
   "outputs": [],
   "source": [
    "def v2t(vector):\n",
    "    return np.vstack((vector,1))"
   ]
  },
  {
   "cell_type": "code",
   "execution_count": 4,
   "metadata": {
    "collapsed": true
   },
   "outputs": [],
   "source": [
    "def ICP_matching(ppoints, cpoints):\n",
    "    H = []\n",
    "\n",
    "    dError = 1000.0\n",
    "    preError = 1000.0\n",
    "    count = 0\n",
    "\n",
    "    while dError >= EPS:\n",
    "        count += 1\n",
    "\n",
    "        inds, error = nearest_neighbor_assosiation(ppoints, cpoints)\n",
    "        Rt, Tt = SVD_motion_estimation(ppoints[:, inds], cpoints)\n",
    "\n",
    "        # update current points\n",
    "        #cpoints = (Rt * cpoints) + Tt\n",
    "        cpoints = (H * cpoints)\n",
    "\n",
    "        H = update_homogenerous_matrix(H, Rt, Tt)\n",
    "\n",
    "        dError = abs(preError - error)\n",
    "        preError = error\n",
    "        print(\"Residual:\", error)\n",
    "\n",
    "        if dError <= EPS:\n",
    "            print(\"Converge\", error, dError, count)\n",
    "            break\n",
    "        elif MAXITER <= count:\n",
    "            print(\"Not Converge...\", error, dError, count)\n",
    "            break\n",
    "\n",
    "    R = np.matrix(H[0:2, 0:2])\n",
    "    T = np.matrix(H[0:2, 2])\n",
    "\n",
    "    return R, T"
   ]
  },
  {
   "cell_type": "code",
   "execution_count": 5,
   "metadata": {
    "collapsed": true
   },
   "outputs": [],
   "source": [
    "def update_homogenerous_matrix(Hin, R, T):\n",
    "\n",
    "    H = np.matrix(np.zeros((3, 3)))\n",
    "\n",
    "    H[0, 0] = R[0, 0]\n",
    "    H[1, 0] = R[1, 0]\n",
    "    H[0, 1] = R[0, 1]\n",
    "    H[1, 1] = R[1, 1]\n",
    "    H[2, 2] = 1.0\n",
    "\n",
    "    H[0, 2] = T[0, 0]\n",
    "    H[1, 2] = T[1, 0]\n",
    "\n",
    "    if Hin is None:\n",
    "        return H\n",
    "    else:\n",
    "        return Hin * H"
   ]
  },
  {
   "cell_type": "code",
   "execution_count": 6,
   "metadata": {
    "collapsed": true
   },
   "outputs": [],
   "source": [
    "def nearest_neighbor_assosiation(ppoints, cpoints):\n",
    "\n",
    "    # calc the sum of residual errors\n",
    "    dcpoints = ppoints - cpoints\n",
    "    d = np.linalg.norm(dcpoints, axis=0)\n",
    "    error = sum(d)\n",
    "\n",
    "    # calc index with nearest neighbor assosiation\n",
    "    inds = []\n",
    "    for i in range(cpoints.shape[1]):\n",
    "        minid = -1\n",
    "        mind = float(\"inf\")\n",
    "        for ii in range(ppoints.shape[1]):\n",
    "            d = np.linalg.norm(ppoints[:, ii] - cpoints[:, i])\n",
    "\n",
    "            if mind >= d:\n",
    "                mind = d\n",
    "                minid = ii\n",
    "\n",
    "        inds.append(minid)\n",
    "\n",
    "    return inds, error"
   ]
  },
  {
   "cell_type": "code",
   "execution_count": 16,
   "metadata": {
    "collapsed": true
   },
   "outputs": [],
   "source": [
    "def SVD_motion_estimation(ppoints, cpoints):\n",
    "\n",
    "    pm = np.matrix(np.mean(ppoints, axis=1))\n",
    "    cm = np.matrix(np.mean(cpoints, axis=1))\n",
    "    \n",
    "    pshift = np.matrix(ppoints - pm)\n",
    "    cshift = np.matrix(cpoints - cm)\n",
    "\n",
    "    W = cshift * pshift.T\n",
    "    u, s, vh = np.linalg.svd(W)\n",
    "\n",
    "    R = (u * vh).T\n",
    "    t = pm - R * cm\n",
    "    \n",
    "    return R, t"
   ]
  },
  {
   "cell_type": "code",
   "execution_count": 15,
   "metadata": {
    "collapsed": false,
    "scrolled": true
   },
   "outputs": [
    {
     "name": "stdout",
     "output_type": "stream",
     "text": [
      " start!!\n",
      "Residual: 132.391310002\n",
      "Residual: 142.083978402\n",
      "Residual: 148.948510554\n",
      "Residual: 153.6573736\n",
      "Residual: 156.226480117\n",
      "Residual: 157.339832921\n",
      "Residual: 158.07598918\n",
      "Residual: 158.877986222\n",
      "Residual: 159.512433428\n",
      "Residual: 159.858263672\n",
      "Residual: 160.155593823\n",
      "Residual: 160.468804876\n",
      "Residual: 160.579619305\n",
      "Residual: 160.720525279\n",
      "Residual: 160.744883581\n",
      "Residual: 160.770336433\n",
      "Residual: 160.850847103\n",
      "Residual: 160.885781404\n",
      "Residual: 160.942718356\n",
      "Residual: 160.941766892\n",
      "Residual: 160.94166641\n",
      "Residual: 160.941655794\n",
      "Converge 160.941655794 1.06157772848e-05 22\n"
     ]
    },
    {
     "data": {
      "image/png": "[encoded data removed]",
      "text/plain": [
       "<matplotlib.figure.Figure at 0x7cb09e8>"
      ]
     },
     "metadata": {},
     "output_type": "display_data"
    }
   ],
   "source": [
    "print(\" start!!\")\n",
    "\n",
    "# simulation parameters\n",
    "nPoint = 10\n",
    "fieldLength = 50.0\n",
    "#motion = [0.5, 2.0, np.deg2rad(-10.0)]  # movement [x[m],y[m],yaw[deg]]\n",
    "\n",
    "nsim = 1  # number of simulation\n",
    "\n",
    "for _ in range(nsim):\n",
    "\n",
    "    # previous points\n",
    "#    px = (np.random.rand(nPoint) - 0.5) * fieldLength\n",
    "#    py = (np.random.rand(nPoint) - 0.5) * fieldLength\n",
    "#    ppoints = np.matrix(np.vstack((px, py)))\n",
    "    ppoints = np.matrix(np.vstack((reference[0,:], reference[1,:])))\n",
    "\n",
    "    # current points\n",
    "#    cx = [math.cos(motion[2]) * x - math.sin(motion[2]) * y + motion[0]\n",
    "#          for (x, y) in zip(px, py)]\n",
    "#    cy = [math.sin(motion[2]) * x + math.cos(motion[2]) * y + motion[1]\n",
    "#          for (x, y) in zip(px, py)]\n",
    "#    cpoints = np.matrix(np.vstack((cx, cy)))\n",
    "    cpoints = np.matrix(np.vstack((read[0,:], read[1,:])))\n",
    "\n",
    "    R, T = ICP_matching(ppoints, cpoints)\n",
    "\n",
    "#print('\\n')    \n",
    "#print(np.transpose(T),np.arccos(R[0,0]))\n",
    "#print([0.48333001, 0, 0.0],'\\n')"
   ]
  },
  {
   "cell_type": "code",
   "execution_count": null,
   "metadata": {
    "collapsed": true
   },
   "outputs": [],
   "source": []
  }
 ],
 "metadata": {
  "kernelspec": {
   "display_name": "Python 3",
   "language": "python",
   "name": "python3"
  },
  "language_info": {
   "codemirror_mode": {
    "name": "ipython",
    "version": 3
   },
   "file_extension": ".py",
   "mimetype": "text/x-python",
   "name": "python",
   "nbconvert_exporter": "python",
   "pygments_lexer": "ipython3",
   "version": "3.4.4"
  }
 },
 "nbformat": 4,
 "nbformat_minor": 2
}
