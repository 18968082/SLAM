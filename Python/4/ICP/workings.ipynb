{
 "cells": [
  {
   "cell_type": "code",
   "execution_count": 1,
   "metadata": {
    "collapsed": true
   },
   "outputs": [],
   "source": [
    "import numpy as np\n",
    "from matplotlib import pyplot as plt\n",
    "%matplotlib inline\n",
    "\n",
    "from sklearn.decomposition import PCA\n",
    "from sklearn.neighbors import NearestNeighbors\n",
    "from scipy import linalg\n",
    "from scipy.optimize import root\n",
    "\n",
    "import sys\n",
    "sys.path.insert(0, 'code')\n",
    "\n",
    "from robot_data import Load_Lidar_Scans as load_scans\n",
    "from robot_data import Lidar_Scan\n",
    "from robot_data import robot_trajectory\n",
    "from datafilters import filters\n",
    "import coordinate_transforms as cord_trans\n",
    "import visualizer\n",
    "import ICP"
   ]
  },
  {
   "cell_type": "markdown",
   "metadata": {},
   "source": [
    "# All the variables that have been created to retrieve the data:"
   ]
  },
  {
   "cell_type": "code",
   "execution_count": 2,
   "metadata": {
    "collapsed": false
   },
   "outputs": [
    {
     "name": "stdout",
     "output_type": "stream",
     "text": [
      "Trajectory:  (52, 3)\n",
      "traj_len:  52\n",
      "traj_dim:  2 \n",
      "\n",
      "LidarScans:  (51, 240)\n",
      "num_of_lidarscans:  240\n",
      "LidarScans_angles:  (240,)\n"
     ]
    }
   ],
   "source": [
    "scans_OBJ = load_scans()\n",
    "scans_OBJ.load_ranges('data\\\\LidarScans_ranges.txt')\n",
    "scans_OBJ.load_angles('data\\\\LidarScans_angles.txt')\n",
    "\n",
    "trajectory_OBJ = robot_trajectory()\n",
    "trajectory_OBJ.load_trajectory('data\\\\Trajectory.txt')\n",
    "\n",
    "print('Trajectory: ',trajectory_OBJ.trajectory.shape)\n",
    "print('traj_len: ',trajectory_OBJ.trajectory_length)\n",
    "print('traj_dim: ',trajectory_OBJ.trajectory_dimension,'\\n')\n",
    "\n",
    "print('LidarScans: ',scans_OBJ.LidarScan_ranges.shape)\n",
    "print('num_of_lidarscans: ',scans_OBJ.num_of_LidarScans)\n",
    "print('LidarScans_angles: ',scans_OBJ.LidarScan_angles.shape)"
   ]
  },
  {
   "cell_type": "markdown",
   "metadata": {},
   "source": [
    "# The following variables are used for the pose-graph SLAM algorithm"
   ]
  },
  {
   "cell_type": "code",
   "execution_count": 4,
   "metadata": {
    "collapsed": true
   },
   "outputs": [],
   "source": [
    "neighbors_to_match_to = 3\n",
    "# The number of points that read is matched to in the reference\n",
    "\n",
    "match_threshold_distance = 1\n",
    "# The maximum distance that a point in the read may be from a \n",
    "# point in the reference \n",
    "\n",
    "match_threshold_angle = np.pi/3\n",
    "# The maximum angle between a line through a point in the \n",
    "# read may have from a line through a point in the reference\n",
    "\n",
    "maximum_iterations = 80\n",
    "# Maximum number of iterations that the ICP algorithm may be run\n",
    "\n",
    "maximum_transform_limits = [0.8,15]\n",
    "# maximum rotation and displacement limits between pose's\n",
    "\n",
    "final_error_limit = 70\n",
    "# maximum loop closure limit \n",
    "\n",
    "ICP_success = [0.001,0.01]\n",
    "# conditions for success between successive ICP iterations\n",
    "\n",
    "overlap_threshold = 0.75\n",
    "# The amount of overlap that a read must have with the reference\n",
    "\n",
    "robot_state = 0\n",
    "# Indicates whether the robot is exploring or revisiting\n",
    "\n",
    "keyframes = []\n",
    "# Scans used to create the pose graph\n",
    "\n",
    "local_map = []\n",
    "# The sequence of keframes that the robot uses to create a map with \n",
    "# which it it comapres new scans to.\n",
    "\n",
    "local_map_size = 3\n",
    "# This is the number of keyframes that the robot uses to create the \n",
    "# local map, which it uses during exploration\n",
    "\n",
    "no_loop_window = 10\n",
    "# The number of previous and sequentail keyframes that may not be considered\n",
    "# for the loop closure process\n",
    "\n",
    "max_distance_to_loop_closing = 15\n",
    "max_error_for_loop_closing = 5000"
   ]
  },
  {
   "cell_type": "markdown",
   "metadata": {},
   "source": [
    "# xxxxxxxxxxxxxxxxxxxxxxxxxxxxxxxxxxxxxxxxxxxxxxxxxxxx"
   ]
  },
  {
   "cell_type": "code",
   "execution_count": 5,
   "metadata": {
    "collapsed": true
   },
   "outputs": [],
   "source": [
    "def linear_least_squares_SVD(reference_weighted,read,normals):#,transform):\n",
    "    \n",
    "    #x = np.transpose(transform)\n",
    "    \n",
    "    A = np.zeros([3])\n",
    "    for point_read,norm in zip(read,normals):\n",
    "        row = np.array([[point_read[1]*norm[0] - point_read[1]*norm[1],norm[0],norm[1]]])\n",
    "        A = np.vstack((A,row))\n",
    "    A = np.delete(A,0,0)\n",
    "        \n",
    "    b = np.zeros(1)\n",
    "    for point_read,point_ref,norm in zip(read,reference_weighted,normals):\n",
    "        row = np.array([norm[0]*point_ref[0] + norm[1]*point_ref[1] - norm[0]*point_read[0] - norm[1]*point_read[1]])\n",
    "        b = np.hstack((b,row))\n",
    "    b = np.delete(b,0,0)\n",
    "    b = np.vstack(b)\n",
    "    \n",
    "    #U, s, Vh = linalg.svd(A, full_matrices=False)\n",
    "    #S = np.diag(s)\n",
    "    \n",
    "    A_plus = linalg.pinv(A)\n",
    "    \n",
    "    return np.matmul(A_plus,b)"
   ]
  },
  {
   "cell_type": "markdown",
   "metadata": {},
   "source": [
    "# xxxxxxxxxxxxxxxxxxxxxxxxxxxxxxxxxxxxxxxxxxxxxxxxxxxx"
   ]
  },
  {
   "cell_type": "code",
   "execution_count": 6,
   "metadata": {
    "collapsed": true
   },
   "outputs": [],
   "source": [
    "#transform = np.array([0,0.48,0])\n",
    "\n",
    "read = cord_trans.ploar_to_cartesian_2D(scans_OBJ.LidarScan_angles,scans_OBJ.LidarScan_ranges[1])\n",
    "reference = cord_trans.ploar_to_cartesian_2D(scans_OBJ.LidarScan_angles,scans_OBJ.LidarScan_ranges[0])\n",
    "\n",
    "matched_coords, matched_distances, matched_point_indices = ICP.matching(reference, read,1)\n",
    "\n",
    "normals_from_reference, principle_axes, distances_to_points = filters.surface_normals(reference,10)\n",
    "distances_read_refnorm = matched_point_indices\n",
    "\n",
    "read_to_ref_vectors_norm = filters.read_reference_normal_vectors(read,matched_coords)\n",
    "\n",
    "angles_read_to_ref = ICP.observation_normal_angle_minimization(normals_from_reference,read_to_ref_vectors_norm)\n",
    "\n",
    "rejection_weights = ICP.outlier_rejection(matched_distances,angles_read_to_ref)\n",
    "#############################\n",
    "temp2 = np.array([9,9])\n",
    "for all_points in matched_coords:\n",
    "    for single_match in all_points:\n",
    "        temp = single_match\n",
    "    temp2 = np.vstack((temp2,temp))\n",
    "temp2 = np.delete(temp2,0,0)\n",
    "#############################\n",
    "weighted_matched_coords = np.matmul(rejection_weights,temp2)"
   ]
  },
  {
   "cell_type": "code",
   "execution_count": 7,
   "metadata": {
    "collapsed": false
   },
   "outputs": [
    {
     "data": {
      "text/plain": [
       "[<matplotlib.lines.Line2D at 0x1c2ea6e7080>]"
      ]
     },
     "execution_count": 7,
     "metadata": {},
     "output_type": "execute_result"
    },
    {
     "data": {
      "image/png": "[encoded data removed]",
      "text/plain": [
       "<matplotlib.figure.Figure at 0x1c2ea4fcba8>"
      ]
     },
     "metadata": {},
     "output_type": "display_data"
    }
   ],
   "source": [
    "#theta,tx,ty = [0, 0.48333001, 0.0]\n",
    "theta,tx,ty = [0, 0.48333001, 0]\n",
    "new_read = ICP.transformation_2D([theta,tx,ty],read)\n",
    "\n",
    "for i in range(100):\n",
    "    old_theta,old_tx,old_ty = theta,tx,ty\n",
    "    theta,tx,ty = linear_least_squares_SVD(weighted_matched_coords,new_read,normals_from_reference)\n",
    "    theta,tx,ty = theta[0],tx[0],ty[0]\n",
    "    new_read = ICP.transformation_2D([theta,tx,ty],read)\n",
    "    #if(((np.abs(old_theta - np.abs(theta)) <= old_theta*0.1) and (np.abs(old_tx - np.abs(tx)) <= old_tx*0.1) and (np.abs(old_ty - np.abs(ty)) <= old_ty*0.1) or i >= maximum_iterations)):\n",
    "        \n",
    "\n",
    "plt.figure()\n",
    "plt.grid(color='k', linestyle='--', linewidth=0.5)\n",
    "plt.plot(new_read[:,0],new_read[:,1],'r.')\n",
    "plt.plot(reference[:,0],reference[:,1],'b.')"
   ]
  },
  {
   "cell_type": "markdown",
   "metadata": {},
   "source": [
    "# xxxxxxxxxxxxxxxxxxxxxxxxxxxxxxxxxxxxxxxxxxxxxxxxxxxx"
   ]
  },
  {
   "cell_type": "markdown",
   "metadata": {},
   "source": [
    "Goal of ICP"
   ]
  },
  {
   "cell_type": "markdown",
   "metadata": {
    "collapsed": true
   },
   "source": [
    "coords_xy = cord_trans.ploar_to_cartesian_2D(scans_OBJ.LidarScan_angles,scans_OBJ.LidarScan_ranges[1])\n",
    "#translation = np.vstack((0,trajectory_OBJ.trajectory[1] - trajectory_OBJ.trajectory[0]))\n",
    "transformation = np.array([[0],[0.48333],[0]])\n",
    "test = ICP.transformation_2D(transformation,coords_xy)\n",
    "\n",
    "plt.figure()\n",
    "plt.plot(trajectory_OBJ.trajectory[1,0],trajectory_OBJ.trajectory[1,1],'x')\n",
    "plt.grid(color='k', linestyle='--', linewidth=0.5)\n",
    "\n",
    "plt.plot(trajectory_OBJ.trajectory[0,0] + test[:,0],trajectory_OBJ.trajectory[0,0] + test[:,1],'.')\n",
    "\n",
    "coords_xy = cord_trans.ploar_to_cartesian_2D(scans_OBJ.LidarScan_angles,scans_OBJ.LidarScan_ranges[0])\n",
    "plt.plot(trajectory_OBJ.trajectory[0,0] + coords_xy[:,0],trajectory_OBJ.trajectory[0,0] + coords_xy[:,1],'.')"
   ]
  },
  {
   "cell_type": "markdown",
   "metadata": {},
   "source": [
    "# xxxxxxxxxxxxxxxxxxxxxxxxxxxxxxxxxxxxxxxxxxxxxxxxxxxx"
   ]
  },
  {
   "cell_type": "markdown",
   "metadata": {},
   "source": [
    "Creating the inital guess for the transform"
   ]
  },
  {
   "cell_type": "code",
   "execution_count": 8,
   "metadata": {
    "collapsed": true
   },
   "outputs": [],
   "source": [
    "def transformation_parameters(path):\n",
    "    parameters = []\n",
    "    x0 = path[0]\n",
    "    path = np.delete(path,0,0)\n",
    "    prev_pose = x0\n",
    "    for curr_pose in path:\n",
    "        translation = curr_pose[0:2:1] - prev_pose[0:2:1]\n",
    "        if not (curr_pose[2] == prev_pose[2]):\n",
    "            theta = curr_pose[2]\n",
    "        else:\n",
    "            theta = 0\n",
    "        parameters.append([theta,translation[0],translation[1]])\n",
    "        prev_pose = curr_pose\n",
    "    return parameters"
   ]
  },
  {
   "cell_type": "code",
   "execution_count": 9,
   "metadata": {
    "collapsed": false
   },
   "outputs": [
    {
     "name": "stdout",
     "output_type": "stream",
     "text": [
      "[0, 0.48333001, 0.0]\n"
     ]
    }
   ],
   "source": [
    "transformations_entire_path = transformation_parameters(trajectory_OBJ.trajectory)\n",
    "print(transformations_entire_path[0])"
   ]
  },
  {
   "cell_type": "markdown",
   "metadata": {},
   "source": [
    "plt.figure()\n",
    "plt.grid(color='k', linestyle='--', linewidth=0.5)\n",
    "plt.plot(trajectory_OBJ.trajectory[1,0],trajectory_OBJ.trajectory[1,1],'x')\n",
    "\n",
    "for i,transform in enumerate(transformations_entire_path):\n",
    "    theta,tx,ty = transform\n",
    "    #T = np.array([[1,0,tx],[0,1,ty],[0,0,1]])\n",
    "    #print(T,'\\n')\n",
    "    #row0 = np.hstack((np.cos(theta),np.sin(theta),0))\n",
    "    #row1 = np.hstack((-1*np.sin(theta),np.cos(theta),0))\n",
    "    #row2 = np.hstack((0,0,1))\n",
    "    #R = np.vstack((row0,row1,row2))\n",
    "    #print(R,'\\n')\n",
    "    #rigid_transformation = np.matmul(T,R)\n",
    "    #print(rigid_transformation)\n",
    "    \n",
    "    coords_xy = cord_trans.ploar_to_cartesian_2D(scans_OBJ.LidarScan_angles,scans_OBJ.LidarScan_ranges[i])\n",
    "    \n",
    "    test = ICP.transformation_2D([[theta],[tx],[ty]],coords_xy)\n",
    "\n",
    "    plt.plot(test[:,0],test[:,1],'.')"
   ]
  },
  {
   "cell_type": "code",
   "execution_count": 10,
   "metadata": {
    "collapsed": false,
    "scrolled": false
   },
   "outputs": [
    {
     "data": {
      "text/plain": [
       "[<matplotlib.lines.Line2D at 0x1c2ebdae748>]"
      ]
     },
     "execution_count": 10,
     "metadata": {},
     "output_type": "execute_result"
    },
    {
     "data": {
      "image/png": "[encoded data removed]",
      "text/plain": [
       "<matplotlib.figure.Figure at 0x1c2e868d390>"
      ]
     },
     "metadata": {},
     "output_type": "display_data"
    }
   ],
   "source": [
    "coords_xy = cord_trans.ploar_to_cartesian_2D(scans_OBJ.LidarScan_angles,scans_OBJ.LidarScan_ranges[1])\n",
    "translation = np.vstack(trajectory_OBJ.trajectory[1] - trajectory_OBJ.trajectory[0])\n",
    "\n",
    "test = ICP.transformation_2D([theta,tx,ty],coords_xy)\n",
    "\n",
    "plt.figure()\n",
    "plt.plot(trajectory_OBJ.trajectory[1,0],trajectory_OBJ.trajectory[1,1],'x')\n",
    "plt.grid(color='k', linestyle='--', linewidth=0.5)\n",
    "\n",
    "plt.plot(trajectory_OBJ.trajectory[0,0] + test[:,0],trajectory_OBJ.trajectory[0,0] + test[:,1],'r.')\n",
    "\n",
    "coords_xy = cord_trans.ploar_to_cartesian_2D(scans_OBJ.LidarScan_angles,scans_OBJ.LidarScan_ranges[0])\n",
    "plt.plot(trajectory_OBJ.trajectory[0,0] + coords_xy[:,0],trajectory_OBJ.trajectory[0,0] + coords_xy[:,1],'b.')"
   ]
  },
  {
   "cell_type": "markdown",
   "metadata": {},
   "source": [
    "# xxxxxxxxxxxxxxxxxxxxxxxxxxxxxxxxxxxxxxxxxxxxxxxxxxxx"
   ]
  },
  {
   "cell_type": "markdown",
   "metadata": {},
   "source": [
    "# Testing"
   ]
  },
  {
   "cell_type": "markdown",
   "metadata": {},
   "source": [
    "# xxxxxxxxxxxxxxxxxxxxxxxxxxxxxxxxxxxxxxxxxxxxxxxxxxxx"
   ]
  },
  {
   "cell_type": "code",
   "execution_count": 11,
   "metadata": {
    "collapsed": false,
    "scrolled": true
   },
   "outputs": [
    {
     "data": {
      "text/plain": [
       "[<matplotlib.lines.Line2D at 0x1c2ea53f7f0>]"
      ]
     },
     "execution_count": 11,
     "metadata": {},
     "output_type": "execute_result"
    },
    {
     "data": {
      "image/png": "[encoded data removed]",
      "text/plain": [
       "<matplotlib.figure.Figure at 0x1c2ea4fc6a0>"
      ]
     },
     "metadata": {},
     "output_type": "display_data"
    }
   ],
   "source": [
    "coords_xy1 = cord_trans.ploar_to_cartesian_2D(scans_OBJ.LidarScan_angles,scans_OBJ.LidarScan_ranges[1])\n",
    "coords_xy0 = cord_trans.ploar_to_cartesian_2D(scans_OBJ.LidarScan_angles,scans_OBJ.LidarScan_ranges[0])\n",
    "\n",
    "normals_read_to_ref = filters.read_reference_normal_vectors(coords_xy1,coords_xy0)\n",
    "\n",
    "start,end,interval = 0,240,240\n",
    "steps = np.linspace(start,end,interval,endpoint=False,dtype='int')\n",
    "\n",
    "plt.figure()\n",
    "\n",
    "plt.plot(coords_xy1[steps,0],coords_xy1[steps,1],'.')\n",
    "plt.grid(color='k', linestyle='--', linewidth=0.5)\n",
    "\n",
    "for i in steps:\n",
    "    visualizer.plot_custom_axes(normals_read_to_ref[i],coords_xy1[i])\n",
    "    \n",
    "plt.plot(coords_xy0[steps,0],coords_xy0[steps,1],'r.')"
   ]
  },
  {
   "cell_type": "markdown",
   "metadata": {},
   "source": [
    "# xxxxxxxxxxxxxxxxxxxxxxxxxxxxxxxxxxxxxxxxxxxxxxxxxxxx"
   ]
  },
  {
   "cell_type": "markdown",
   "metadata": {},
   "source": [
    "ICP matching process with adjustable number of matches"
   ]
  },
  {
   "cell_type": "code",
   "execution_count": 12,
   "metadata": {
    "collapsed": false
   },
   "outputs": [
    {
     "data": {
      "image/png": "[encoded data removed]",
      "text/plain": [
       "<matplotlib.figure.Figure at 0x1c2ea6e7d30>"
      ]
     },
     "metadata": {},
     "output_type": "display_data"
    }
   ],
   "source": [
    "reference = cord_trans.ploar_to_cartesian_2D(scans_OBJ.LidarScan_angles,scans_OBJ.LidarScan_ranges[0])\n",
    "read = cord_trans.ploar_to_cartesian_2D(scans_OBJ.LidarScan_angles,scans_OBJ.LidarScan_ranges[1])\n",
    "\n",
    "matched, ditances, correspondence_points = ICP.matching(reference, read,3)\n",
    "\n",
    "plt.figure()\n",
    "plt.plot(reference[0,0],reference[0,1],'bo')\n",
    "plt.plot(read[0,0],read[0,1],'go')\n",
    "for all_points in matched:\n",
    "    for point in all_points:\n",
    "        plt.plot(point[0],point[1],'r+')\n",
    "    break"
   ]
  },
  {
   "cell_type": "markdown",
   "metadata": {},
   "source": [
    "# xxxxxxxxxxxxxxxxxxxxxxxxxxxxxxxxxxxxxxxxxxxxxxxxxxxx"
   ]
  },
  {
   "cell_type": "markdown",
   "metadata": {},
   "source": [
    "Angle minimization between the unit vector from read to reference and the notmal vector at the reference"
   ]
  },
  {
   "cell_type": "markdown",
   "metadata": {
    "collapsed": true
   },
   "source": [
    "coords_xy = cord_trans.ploar_to_cartesian_2D(scans_OBJ.LidarScan_angles,scans_OBJ.LidarScan_ranges[0])\n",
    "\n",
    "normal_vectors,axes, distances = filters.surface_normals(coords_xy,10)\n",
    "observation_directions = filters.sensor_to_observation_vectors_cartesian(coords_xy)\n",
    "\n",
    "angles = np.rad2deg(ICP.observation_normal_angle_minimization(normal_vectors,observation_directions))"
   ]
  },
  {
   "cell_type": "markdown",
   "metadata": {},
   "source": [
    "# xxxxxxxxxxxxxxxxxxxxxxxxxxxxxxxxxxxxxxxxxxxxxxxxxxxx"
   ]
  },
  {
   "cell_type": "code",
   "execution_count": 13,
   "metadata": {
    "collapsed": true
   },
   "outputs": [],
   "source": [
    "def transformation_2D_homogeneous(parameters,x):\n",
    "    \n",
    "    theta,tx,ty = parameters\n",
    "    cosine = np.cos(theta)\n",
    "    sine = np.sin(theta)\n",
    "    \n",
    "    rotation_matrix_mini = np.array([[cosine,sine],[-1*sine,cosine]])\n",
    "    translation_matrix = np.vstack([tx,ty])\n",
    "    \n",
    "    motion_matrix = np.vstack((np.hstack((rotation_matrix_mini,translation_matrix)),[0,0,1]))\n",
    "    \n",
    "    new_cloud = np.matmul(motion_matrix,x)\n",
    "    \n",
    "    return new_cloud"
   ]
  },
  {
   "cell_type": "code",
   "execution_count": 23,
   "metadata": {
    "collapsed": true
   },
   "outputs": [],
   "source": [
    "def plot_custom_axes(axis,origin_coords):\n",
    "    for x_axis, y_axis in axis:\n",
    "        print(x_axis, y_axis)\n",
    "        plt.plot(0.1 * x_axis, 0.1 * y_axis, linewidth=0.01)\n",
    "        plt.quiver(origin_coords[0], origin_coords[1], x_axis, y_axis, zorder=11, width=0.005, scale=15)\n",
    "        plt.grid(color='k', linestyle='--', linewidth=0.5)\n",
    "\n",
    "    return"
   ]
  },
  {
   "cell_type": "code",
   "execution_count": 36,
   "metadata": {
    "collapsed": false
   },
   "outputs": [
    {
     "name": "stdout",
     "output_type": "stream",
     "text": [
      "[[1]\n",
      " [0]]\n",
      "[[2.00000]\n",
      " [-1.00000]]\n"
     ]
    },
    {
     "data": {
      "text/plain": [
       "<matplotlib.collections.PathCollection at 0x1c2ec535d68>"
      ]
     },
     "execution_count": 36,
     "metadata": {},
     "output_type": "execute_result"
    },
    {
     "data": {
      "image/png": "[encoded data removed]",
      "text/plain": [
       "<matplotlib.figure.Figure at 0x1c2ec514a90>"
      ]
     },
     "metadata": {},
     "output_type": "display_data"
    }
   ],
   "source": [
    "vector = np.vstack([1,0,1])\n",
    "new_vector = transformation_2D_homogeneous([0,1,-1],vector)\n",
    "print(vector[:2])\n",
    "print(new_vector[:2])\n",
    "plt.scatter(vector[0],vector[1],marker='o')\n",
    "plt.scatter(new_vector[0],new_vector[1],marker='+')"
   ]
  },
  {
   "cell_type": "markdown",
   "metadata": {},
   "source": [
    "# xxxxxxxxxxxxxxxxxxxxxxxxxxxxxxxxxxxxxxxxxxxxxxxxxxxx"
   ]
  },
  {
   "cell_type": "markdown",
   "metadata": {},
   "source": [
    "Data filters, fized sample step size"
   ]
  },
  {
   "cell_type": "code",
   "execution_count": null,
   "metadata": {
    "collapsed": true
   },
   "outputs": [],
   "source": [
    "plt.figure()\n",
    "\n",
    "coords_xy = cord_trans.ploar_to_cartesian_2D(scans_OBJ.LidarScan_angles,scans_OBJ.LidarScan_ranges[0])\n",
    "plt.plot(coords_xy[:,0],coords_xy[:,1],'.')\n",
    "plt.plot(0,0,'x')\n",
    "plt.grid(color='k', linestyle='--', linewidth=0.5)\n",
    "\n",
    "test = filters.subsample(coords_xy,6)\n",
    "plt.plot(test[:,0],test[:,1],'.')"
   ]
  },
  {
   "cell_type": "markdown",
   "metadata": {},
   "source": [
    "data filters, randomly sampled points with probability of retained points"
   ]
  },
  {
   "cell_type": "code",
   "execution_count": null,
   "metadata": {
    "collapsed": true
   },
   "outputs": [],
   "source": [
    "plt.figure()\n",
    "\n",
    "coords_xy = cord_trans.ploar_to_cartesian_2D(scans_OBJ.LidarScan_angles,scans_OBJ.LidarScan_ranges[0])\n",
    "plt.plot(coords_xy[:,0],coords_xy[:,1],'.')\n",
    "plt.plot(0,0,'x')\n",
    "plt.grid(color='k', linestyle='--', linewidth=0.5)\n",
    "\n",
    "test = filters.random_sample_uniform(coords_xy,0.5)\n",
    "plt.plot(test[:,0],test[:,1],'.')\n",
    "\n",
    "print(test.shape[0]/coords_xy.shape[0])"
   ]
  },
  {
   "cell_type": "markdown",
   "metadata": {},
   "source": [
    "Data filters, fixed bounded box filter rejecting every thing outs side the box"
   ]
  },
  {
   "cell_type": "code",
   "execution_count": null,
   "metadata": {
    "collapsed": true,
    "scrolled": false
   },
   "outputs": [],
   "source": [
    "plt.figure()\n",
    "\n",
    "coords_xy = cord_trans.ploar_to_cartesian_2D(scans_OBJ.LidarScan_angles,scans_OBJ.LidarScan_ranges[0])\n",
    "plt.plot(coords_xy[:,0],coords_xy[:,1],'.')\n",
    "plt.plot(0,0,'x')\n",
    "plt.grid(color='k', linestyle='--', linewidth=0.5)\n",
    "\n",
    "test = cord_trans.ploar_to_cartesian_2D(scans_OBJ.LidarScan_angles,scans_OBJ.LidarScan_ranges[0])\n",
    "\n",
    "test = filters.bounded_box(test,[-2,2],[-2,2])\n",
    "plt.plot(test[:,0],test[:,1],'.')"
   ]
  },
  {
   "cell_type": "markdown",
   "metadata": {},
   "source": [
    "Data filters,orientate the normal vectors to a point "
   ]
  },
  {
   "cell_type": "code",
   "execution_count": null,
   "metadata": {
    "collapsed": true,
    "scrolled": true
   },
   "outputs": [],
   "source": [
    "start,end,interval = 0,240,240\n",
    "neighbors = 10\n",
    "coords_xy = cord_trans.ploar_to_cartesian_2D(scans_OBJ.LidarScan_angles,scans_OBJ.LidarScan_ranges[0])\n",
    "steps = np.linspace(start,end,interval,endpoint=False,dtype='int')\n",
    "\n",
    "#plt.figure()\n",
    "\n",
    "#plt.plot(coords_xy[steps,0],coords_xy[steps,1],'.')\n",
    "#plt.plot(0,0,'x')\n",
    "#plt.grid(color='k', linestyle='--', linewidth=0.5)\n",
    "\n",
    "normal_vectors,axes, distances = filters.surface_normals(coords_xy,neighbors)\n",
    "observation_directions = filters.sensor_to_observation_vectors_cartesian(coords_xy)\n",
    "\n",
    "#for i in steps:\n",
    "#    observation_direction_for_point = observation_directions[i]\n",
    "#    visualizer.plot_custom_axes(observation_direction_for_point,coords_xy[i])\n",
    "\n",
    "plt.figure()\n",
    "\n",
    "plt.plot(coords_xy[steps,0],coords_xy[steps,1],'.')\n",
    "plt.plot(0,0,'x')\n",
    "plt.grid(color='k', linestyle='--', linewidth=0.5)\n",
    "\n",
    "for i in steps:\n",
    "    visualizer.plot_custom_axes(normal_vectors[i],coords_xy[i])\n",
    "    \n",
    "plt.figure()\n",
    "\n",
    "#plt.plot(coords_xy[steps,0],coords_xy[steps,1],'.')\n",
    "#plt.plot(0,0,'x')\n",
    "#plt.grid(color='k', linestyle='--', linewidth=0.5)    \n",
    "\n",
    "#for i in steps:\n",
    "#    axis_for_point = axes[i]\n",
    "#    visualizer.plot_custom_axes(axis_for_point,coords_xy[i])\n",
    "    \n",
    "normal_vectors = filters.orientate_normals(normal_vectors,observation_directions)\n",
    "\n",
    "plt.plot(coords_xy[steps,0],coords_xy[steps,1],'.')\n",
    "plt.plot(0,0,'x')\n",
    "plt.grid(color='k', linestyle='--', linewidth=0.5)\n",
    "\n",
    "for i in steps:\n",
    "    visualizer.plot_custom_axes(normal_vectors[i],coords_xy[i])"
   ]
  },
  {
   "cell_type": "markdown",
   "metadata": {},
   "source": [
    "# xxxxxxxxxxxxxxxxxxxxxxxxxxxxxxxxxxxxxxxxxxxxxxxxxxxx"
   ]
  },
  {
   "cell_type": "markdown",
   "metadata": {},
   "source": [
    "Testing the co-ordinate transforms"
   ]
  },
  {
   "cell_type": "code",
   "execution_count": null,
   "metadata": {
    "collapsed": true
   },
   "outputs": [],
   "source": [
    "plt.figure()\n",
    "\n",
    "plt.subplot(1, 2, 1)\n",
    "coords_xy = cord_trans.ploar_to_cartesian_2D(scans_OBJ.LidarScan_angles,scans_OBJ.LidarScan_ranges[0])\n",
    "plt.plot(coords_xy[:,0],coords_xy[:,1],'.')\n",
    "plt.plot(0,0,'x')\n",
    "plt.grid(color='k', linestyle='--', linewidth=0.5)\n",
    "\n",
    "plt.subplot(1, 2, 2,projection='polar')\n",
    "coords_polar = cord_trans.cartesian_to_ploar_2D(coords_xy)\n",
    "plt.polar(coords_polar[:,0],coords_polar[:,1],'.')\n",
    "plt.polar(0.,0.,'x')"
   ]
  },
  {
   "cell_type": "code",
   "execution_count": null,
   "metadata": {
    "collapsed": true,
    "scrolled": true
   },
   "outputs": [],
   "source": [
    "plt.figure()\n",
    "\n",
    "plt.subplot(1, 2, 1)\n",
    "coords_xy = cord_trans.ploar_to_cartesian_2D(scans_OBJ.LidarScan_angles,scans_OBJ.LidarScan_ranges[0])\n",
    "plt.plot(coords_xy[:,0],coords_xy[:,1],'.')\n",
    "plt.plot(0,0,'x')\n",
    "plt.grid(color='k', linestyle='--', linewidth=0.5)\n",
    "\n",
    "plt.subplot(1, 2, 2)\n",
    "coords_xy = cord_trans.ploar_to_cartesian_2D(scans_OBJ.LidarScan_angles,scans_OBJ.LidarScan_ranges[10])\n",
    "plt.plot(coords_xy[:,0],coords_xy[:,1],'.')\n",
    "plt.plot(0,0,'x')\n",
    "plt.grid(color='k', linestyle='--', linewidth=0.5)"
   ]
  },
  {
   "cell_type": "code",
   "execution_count": null,
   "metadata": {
    "collapsed": true
   },
   "outputs": [],
   "source": [
    "plt.figure()\n",
    "\n",
    "coords_xy = cord_trans.ploar_to_cartesian_2D(scans_OBJ.LidarScan_angles,scans_OBJ.LidarScan_ranges[0])\n",
    "plt.plot(trajectory_OBJ.trajectory[0,0] + coords_xy[:,0],trajectory_OBJ.trajectory[0,1] + coords_xy[:,1],'.')\n",
    "plt.plot(trajectory_OBJ.trajectory[0,0],trajectory_OBJ.trajectory[0,1],'x')\n",
    "plt.grid(color='k', linestyle='--', linewidth=0.5)\n",
    "\n",
    "coords_xy = cord_trans.ploar_to_cartesian_2D(scans_OBJ.LidarScan_angles,scans_OBJ.LidarScan_ranges[10])\n",
    "plt.plot(trajectory_OBJ.trajectory[10,0] + coords_xy[:,0],trajectory_OBJ.trajectory[10,1] + coords_xy[:,1],'.')"
   ]
  },
  {
   "cell_type": "code",
   "execution_count": null,
   "metadata": {
    "collapsed": true
   },
   "outputs": [],
   "source": [
    "visualizer.plot_scan_surfaces(cord_trans.ploar_to_cartesian_2D(scans_OBJ.LidarScan_angles,scans_OBJ.LidarScan_ranges[0]),cord_trans.ploar_to_cartesian_2D(scans_OBJ.LidarScan_angles,scans_OBJ.LidarScan_ranges[0])[0:21])"
   ]
  },
  {
   "cell_type": "code",
   "execution_count": null,
   "metadata": {
    "collapsed": true
   },
   "outputs": [],
   "source": [
    "axes = np.array([[1.,0.],[0.,-1.]])\n",
    "print(axes.shape)\n",
    "visualizer.plot_custom_axes(axes,[0.01,-0.01])\n",
    "axes = np.array([[-1.,0.],[0.,1.]])\n",
    "print(axes.shape)\n",
    "visualizer.plot_custom_axes(axes,[-0.01,0.01])"
   ]
  },
  {
   "cell_type": "markdown",
   "metadata": {},
   "source": [
    "# xxxxxxxxxxxxxxxxxxxxxxxxxxxxxxxxxxxxxxxxxxxxxxxxxxxx"
   ]
  },
  {
   "cell_type": "code",
   "execution_count": 10,
   "metadata": {
    "collapsed": false
   },
   "outputs": [
    {
     "ename": "ValueError",
     "evalue": "shapes (3,3) and (2,2) not aligned: 3 (dim 1) != 2 (dim 0)",
     "output_type": "error",
     "traceback": [
      "\u001b[1;31m---------------------------------------------------------------------------\u001b[0m",
      "\u001b[1;31mValueError\u001b[0m                                Traceback (most recent call last)",
      "\u001b[1;32m<ipython-input-10-4207d11084bb>\u001b[0m in \u001b[0;36m<module>\u001b[1;34m()\u001b[0m\n\u001b[0;32m      3\u001b[0m \u001b[0mvt\u001b[0m \u001b[1;33m=\u001b[0m \u001b[0mnp\u001b[0m\u001b[1;33m.\u001b[0m\u001b[0mtranspose\u001b[0m\u001b[1;33m(\u001b[0m\u001b[0mvt\u001b[0m\u001b[1;33m)\u001b[0m\u001b[1;33m\u001b[0m\u001b[0m\n\u001b[0;32m      4\u001b[0m \u001b[0mss\u001b[0m \u001b[1;33m=\u001b[0m \u001b[0mnp\u001b[0m\u001b[1;33m.\u001b[0m\u001b[0mdiag\u001b[0m\u001b[1;33m(\u001b[0m\u001b[0ms\u001b[0m\u001b[1;33m)\u001b[0m\u001b[1;33m\u001b[0m\u001b[0m\n\u001b[1;32m----> 5\u001b[1;33m \u001b[0manp\u001b[0m \u001b[1;33m=\u001b[0m \u001b[0mvt\u001b[0m \u001b[1;33m*\u001b[0m \u001b[0mss\u001b[0m \u001b[1;33m*\u001b[0m \u001b[0mnp\u001b[0m\u001b[1;33m.\u001b[0m\u001b[0mtranspose\u001b[0m\u001b[1;33m(\u001b[0m\u001b[0mu\u001b[0m\u001b[1;33m)\u001b[0m\u001b[1;33m\u001b[0m\u001b[0m\n\u001b[0m\u001b[0;32m      6\u001b[0m \u001b[0mhand\u001b[0m \u001b[1;33m=\u001b[0m \u001b[0mnp\u001b[0m\u001b[1;33m.\u001b[0m\u001b[0minvert\u001b[0m\u001b[1;33m(\u001b[0m\u001b[0mnp\u001b[0m\u001b[1;33m.\u001b[0m\u001b[0mtranspose\u001b[0m\u001b[1;33m(\u001b[0m\u001b[0mA\u001b[0m\u001b[1;33m)\u001b[0m\u001b[1;33m*\u001b[0m\u001b[0mA\u001b[0m\u001b[1;33m)\u001b[0m\u001b[1;33m*\u001b[0m\u001b[0mnp\u001b[0m\u001b[1;33m.\u001b[0m\u001b[0mtranspose\u001b[0m\u001b[1;33m(\u001b[0m\u001b[0mA\u001b[0m\u001b[1;33m)\u001b[0m\u001b[1;33m\u001b[0m\u001b[0m\n\u001b[0;32m      7\u001b[0m \u001b[0mapos\u001b[0m \u001b[1;33m=\u001b[0m \u001b[0mnp\u001b[0m\u001b[1;33m.\u001b[0m\u001b[0mlinalg\u001b[0m\u001b[1;33m.\u001b[0m\u001b[0mpinv\u001b[0m\u001b[1;33m(\u001b[0m\u001b[0ma\u001b[0m\u001b[1;33m)\u001b[0m\u001b[1;33m\u001b[0m\u001b[0m\n",
      "\u001b[1;32mC:\\WinPython-64bit-3.4.4.2\\python-3.4.4.amd64\\lib\\site-packages\\numpy\\matrixlib\\defmatrix.py\u001b[0m in \u001b[0;36m__mul__\u001b[1;34m(self, other)\u001b[0m\n\u001b[0;32m    341\u001b[0m         \u001b[1;32mif\u001b[0m \u001b[0misinstance\u001b[0m\u001b[1;33m(\u001b[0m\u001b[0mother\u001b[0m\u001b[1;33m,\u001b[0m \u001b[1;33m(\u001b[0m\u001b[0mN\u001b[0m\u001b[1;33m.\u001b[0m\u001b[0mndarray\u001b[0m\u001b[1;33m,\u001b[0m \u001b[0mlist\u001b[0m\u001b[1;33m,\u001b[0m \u001b[0mtuple\u001b[0m\u001b[1;33m)\u001b[0m\u001b[1;33m)\u001b[0m \u001b[1;33m:\u001b[0m\u001b[1;33m\u001b[0m\u001b[0m\n\u001b[0;32m    342\u001b[0m             \u001b[1;31m# This promotes 1-D vectors to row vectors\u001b[0m\u001b[1;33m\u001b[0m\u001b[1;33m\u001b[0m\u001b[0m\n\u001b[1;32m--> 343\u001b[1;33m             \u001b[1;32mreturn\u001b[0m \u001b[0mN\u001b[0m\u001b[1;33m.\u001b[0m\u001b[0mdot\u001b[0m\u001b[1;33m(\u001b[0m\u001b[0mself\u001b[0m\u001b[1;33m,\u001b[0m \u001b[0masmatrix\u001b[0m\u001b[1;33m(\u001b[0m\u001b[0mother\u001b[0m\u001b[1;33m)\u001b[0m\u001b[1;33m)\u001b[0m\u001b[1;33m\u001b[0m\u001b[0m\n\u001b[0m\u001b[0;32m    344\u001b[0m         \u001b[1;32mif\u001b[0m \u001b[0misscalar\u001b[0m\u001b[1;33m(\u001b[0m\u001b[0mother\u001b[0m\u001b[1;33m)\u001b[0m \u001b[1;32mor\u001b[0m \u001b[1;32mnot\u001b[0m \u001b[0mhasattr\u001b[0m\u001b[1;33m(\u001b[0m\u001b[0mother\u001b[0m\u001b[1;33m,\u001b[0m \u001b[1;34m'__rmul__'\u001b[0m\u001b[1;33m)\u001b[0m \u001b[1;33m:\u001b[0m\u001b[1;33m\u001b[0m\u001b[0m\n\u001b[0;32m    345\u001b[0m             \u001b[1;32mreturn\u001b[0m \u001b[0mN\u001b[0m\u001b[1;33m.\u001b[0m\u001b[0mdot\u001b[0m\u001b[1;33m(\u001b[0m\u001b[0mself\u001b[0m\u001b[1;33m,\u001b[0m \u001b[0mother\u001b[0m\u001b[1;33m)\u001b[0m\u001b[1;33m\u001b[0m\u001b[0m\n",
      "\u001b[1;31mValueError\u001b[0m: shapes (3,3) and (2,2) not aligned: 3 (dim 1) != 2 (dim 0)"
     ]
    }
   ],
   "source": [
    "A = np.matrix([[2, -1, 0],[4,3,-2]])\n",
    "u, s, vt = np.linalg.svd(A, full_matrices=True)\n",
    "vt = np.transpose(vt)\n",
    "ss = np.diag(s)\n",
    "anp = vt * ss * np.transpose(u)\n",
    "hand = np.invert(np.transpose(A)*A)*np.transpose(A)\n",
    "apos = np.linalg.pinv(a)"
   ]
  },
  {
   "cell_type": "code",
   "execution_count": 7,
   "metadata": {
    "collapsed": false
   },
   "outputs": [
    {
     "name": "stdout",
     "output_type": "stream",
     "text": [
      "[[ -31 -131]\n",
      " [ -11  -87]\n",
      " [   9   53]]\n",
      "[[ 0.31666667  0.08333333]\n",
      " [-0.36666667  0.16666667]\n",
      " [ 0.08333333 -0.08333333]]\n"
     ]
    }
   ],
   "source": [
    "print(hand)\n",
    "print(apos)\n",
    "print(anp)"
   ]
  },
  {
   "cell_type": "code",
   "execution_count": null,
   "metadata": {
    "collapsed": true
   },
   "outputs": [],
   "source": []
  }
 ],
 "metadata": {
  "kernelspec": {
   "display_name": "Python 3",
   "language": "python",
   "name": "python3"
  },
  "language_info": {
   "codemirror_mode": {
    "name": "ipython",
    "version": 3
   },
   "file_extension": ".py",
   "mimetype": "text/x-python",
   "name": "python",
   "nbconvert_exporter": "python",
   "pygments_lexer": "ipython3",
   "version": "3.4.4"
  }
 },
 "nbformat": 4,
 "nbformat_minor": 2
}
